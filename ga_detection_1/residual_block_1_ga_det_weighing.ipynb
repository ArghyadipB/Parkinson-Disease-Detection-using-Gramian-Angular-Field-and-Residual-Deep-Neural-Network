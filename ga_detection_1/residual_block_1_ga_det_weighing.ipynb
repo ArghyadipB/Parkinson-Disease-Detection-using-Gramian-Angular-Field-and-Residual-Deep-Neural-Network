{
 "cells": [
  {
   "cell_type": "code",
   "execution_count": null,
   "id": "77017197",
   "metadata": {
    "id": "77017197"
   },
   "outputs": [],
   "source": [
    "from tensorflow.keras.layers import Input, Conv2D, BatchNormalization, Activation, add,GlobalAveragePooling2D, AveragePooling2D, Flatten, Dense, Dropout\n",
    "from tensorflow.keras.models import Model, load_model\n",
    "from keras.utils import plot_model\n",
    "import numpy as np\n",
    "from tensorflow.keras.utils import image_dataset_from_directory\n",
    "from tensorflow.keras.metrics import Precision, Recall, BinaryAccuracy\n",
    "from matplotlib import pyplot as plt\n",
    "import pickle\n",
    "from sklearn.utils.class_weight import compute_class_weight\n",
    "from tensorflow.keras.preprocessing.image import ImageDataGenerator"
   ]
  },
  {
   "cell_type": "code",
   "execution_count": null,
   "id": "fVUcVOimwrUE",
   "metadata": {
    "colab": {
     "base_uri": "https://localhost:8080/"
    },
    "executionInfo": {
     "elapsed": 22217,
     "status": "ok",
     "timestamp": 1706710811874,
     "user": {
      "displayName": "Debottama Hazarika",
      "userId": "06795409176620158804"
     },
     "user_tz": -330
    },
    "id": "fVUcVOimwrUE",
    "outputId": "c7452ba1-9a18-4b49-c9af-ac70ffb2a007"
   },
   "outputs": [
    {
     "name": "stdout",
     "output_type": "stream",
     "text": [
      "Mounted at /content/drive\n"
     ]
    }
   ],
   "source": [
    "from google.colab import drive\n",
    "drive.mount('/content/drive')"
   ]
  },
  {
   "cell_type": "markdown",
   "id": "59e15c56",
   "metadata": {},
   "source": [
    "### Model"
   ]
  },
  {
   "cell_type": "code",
   "execution_count": null,
   "id": "efe196f3",
   "metadata": {
    "id": "efe196f3"
   },
   "outputs": [],
   "source": [
    "def residual_block(input_tensor, filters, stride):\n",
    "    if stride != 1 :\n",
    "        shortcut = Conv2D(filters, kernel_size=(1, 1), padding='same', strides=stride)(input_tensor)\n",
    "    else:\n",
    "        shortcut = input_tensor\n",
    "\n",
    "    x = Conv2D(filters, kernel_size=(3, 3), padding='same', strides=stride)(input_tensor)\n",
    "    x = BatchNormalization()(x)\n",
    "    x = Activation('relu')(x)\n",
    "\n",
    "    x = Conv2D(filters, kernel_size=(3, 3), padding='same')(x)\n",
    "    x = BatchNormalization()(x)\n",
    "\n",
    "    x = add([x, shortcut])\n",
    "#     x = Activation('relu')(x)\n",
    "\n",
    "    return x\n",
    "\n",
    "\n",
    "def layer_n(input_image,b1,b2,b3,b4,b5): #b1 = 5, b2 = 2, b3 = 4, b4 = 2, b5 = 3\n",
    "\n",
    "    # low level feature extractor\n",
    "\n",
    "    def_out = Conv2D(16, kernel_size = (3,3), input_shape=(400, 400, 1))(input_image)\n",
    "    def_out = BatchNormalization()(def_out)\n",
    "    def_out = Activation('relu')(def_out)\n",
    "\n",
    "    # High level feature extractor\n",
    "\n",
    "    x = def_out\n",
    "\n",
    "    for _ in range(b1):\n",
    "        x = residual_block(x,16,1)\n",
    "\n",
    "    for _ in range(b2):\n",
    "        x = residual_block(x,32,2)\n",
    "\n",
    "    for _ in range(b3):\n",
    "        x = residual_block(x,32,1)\n",
    "\n",
    "    for _ in range(b4):\n",
    "        x = residual_block(x,64,2)\n",
    "\n",
    "    for _ in range(b5):\n",
    "        x = residual_block(x,64,1)\n",
    "\n",
    "    x = AveragePooling2D(pool_size=(2, 2))(x)\n",
    "#     x=GlobalAveragePooling2D()(x)\n",
    "\n",
    "    x = Flatten()(x)\n",
    "    x = Dense(1, activation='sigmoid')(x)\n",
    "\n",
    "    return x"
   ]
  },
  {
   "cell_type": "code",
   "execution_count": null,
   "id": "e28244b6",
   "metadata": {
    "id": "e28244b6"
   },
   "outputs": [],
   "source": [
    "inputs = Input(shape=(400, 400, 1))\n",
    "result = layer_n(inputs, 3, 2, 2, 1, 3)\n",
    "model = Model(inputs=inputs, outputs=result)"
   ]
  },
  {
   "cell_type": "markdown",
   "id": "20573e4d",
   "metadata": {},
   "source": [
    "### Data Loading"
   ]
  },
  {
   "cell_type": "code",
   "execution_count": null,
   "id": "1749aded",
   "metadata": {
    "colab": {
     "base_uri": "https://localhost:8080/"
    },
    "executionInfo": {
     "elapsed": 34352,
     "status": "ok",
     "timestamp": 1706710857340,
     "user": {
      "displayName": "Debottama Hazarika",
      "userId": "06795409176620158804"
     },
     "user_tz": -330
    },
    "id": "1749aded",
    "outputId": "fee0dd02-9f6a-4a7b-bbb0-ca00417b15a6"
   },
   "outputs": [
    {
     "name": "stdout",
     "output_type": "stream",
     "text": [
      "Found 6771 images belonging to 2 classes.\n",
      "Found 1693 images belonging to 2 classes.\n",
      "Found 941 images belonging to 2 classes.\n"
     ]
    }
   ],
   "source": [
    "\n",
    "train_datagen = ImageDataGenerator(\n",
    "#     rotation_range=10,\n",
    "#     width_shift_range=0.2,\n",
    "#     height_shift_range=0.2,\n",
    "#     shear_range=0.2,\n",
    "#     zoom_range=0.2,\n",
    "#     horizontal_flip=True,\n",
    "#     fill_mode='nearest'\n",
    ")\n",
    "\n",
    "\n",
    "train_gen = train_datagen.flow_from_directory(\n",
    "    \"/content/drive/MyDrive/ga_detection_1/ga_det_train_test_val/train\",\n",
    "    target_size=(400, 400),  # Adjust as per your image size\n",
    "    batch_size=32,\n",
    "    class_mode='sparse',\n",
    "    color_mode = 'grayscale',\n",
    "    seed=42,\n",
    "    shuffle=True\n",
    ")\n",
    "\n",
    "val_test_datagen = ImageDataGenerator()\n",
    "\n",
    "val_gen = val_test_datagen.flow_from_directory(\n",
    "    \"/content/drive/MyDrive/ga_detection_1/ga_det_train_test_val/val\",\n",
    "    target_size=(400, 400),  # Adjust as per your image size\n",
    "    batch_size=32,\n",
    "    class_mode='sparse',\n",
    "    color_mode = 'grayscale',\n",
    "    seed=42,\n",
    "    shuffle=False,\n",
    ")\n",
    "\n",
    "test_gen = val_test_datagen.flow_from_directory(\n",
    "    \"/content/drive/MyDrive/ga_detection_1/ga_det_train_test_val/test\",\n",
    "    target_size=(400, 400),  # Adjust as per your image size\n",
    "    batch_size=32,\n",
    "    class_mode='sparse',\n",
    "    color_mode = 'grayscale',\n",
    "    seed=42,\n",
    "    shuffle=False,\n",
    ")"
   ]
  },
  {
   "cell_type": "code",
   "execution_count": null,
   "id": "59a569ca",
   "metadata": {
    "id": "59a569ca"
   },
   "outputs": [],
   "source": [
    "unique_classes = np.unique(train_gen.classes)\n",
    "\n",
    "# Calculate class weights\n",
    "class_weights = compute_class_weight('balanced',classes = unique_classes,y=train_gen.classes)\n",
    "class_weights_dict = dict(zip(unique_classes, class_weights))"
   ]
  },
  {
   "cell_type": "code",
   "execution_count": null,
   "id": "af05ea23",
   "metadata": {
    "colab": {
     "base_uri": "https://localhost:8080/"
    },
    "executionInfo": {
     "elapsed": 459,
     "status": "ok",
     "timestamp": 1705467377394,
     "user": {
      "displayName": "Debottama Hazarika",
      "userId": "06795409176620158804"
     },
     "user_tz": -330
    },
    "id": "af05ea23",
    "outputId": "f4cfb1b0-c263-454a-e978-209397e2db89"
   },
   "outputs": [
    {
     "name": "stdout",
     "output_type": "stream",
     "text": [
      "{0: 1.518842530282638, 1: 0.7453764861294584}\n"
     ]
    }
   ],
   "source": [
    "print(class_weights_dict)"
   ]
  },
  {
   "cell_type": "code",
   "execution_count": null,
   "id": "0bccfc02",
   "metadata": {
    "colab": {
     "base_uri": "https://localhost:8080/"
    },
    "executionInfo": {
     "elapsed": 6,
     "status": "ok",
     "timestamp": 1705467390911,
     "user": {
      "displayName": "Debottama Hazarika",
      "userId": "06795409176620158804"
     },
     "user_tz": -330
    },
    "id": "0bccfc02",
    "outputId": "0ef2267b-9d8a-40dc-cfa1-f7e757655094"
   },
   "outputs": [
    {
     "data": {
      "text/plain": [
       "{0: 1.518842530282638, 1: 0.7453764861294584}"
      ]
     },
     "execution_count": 8,
     "metadata": {},
     "output_type": "execute_result"
    }
   ],
   "source": [
    "class_weights_dict"
   ]
  },
  {
   "cell_type": "markdown",
   "id": "6e154608",
   "metadata": {},
   "source": [
    "### Model Training"
   ]
  },
  {
   "cell_type": "code",
   "execution_count": null,
   "id": "e3347bb7",
   "metadata": {
    "colab": {
     "base_uri": "https://localhost:8080/"
    },
    "executionInfo": {
     "elapsed": 6997850,
     "status": "ok",
     "timestamp": 1705475172601,
     "user": {
      "displayName": "Debottama Hazarika",
      "userId": "06795409176620158804"
     },
     "user_tz": -330
    },
    "id": "e3347bb7",
    "outputId": "016e1b58-8578-435d-9bf6-747e62c1aa95",
    "scrolled": false
   },
   "outputs": [
    {
     "name": "stdout",
     "output_type": "stream",
     "text": [
      "Epoch 1/25\n",
      "212/212 [==============================] - 2138s 10s/step - loss: 0.3676 - accuracy: 0.9363 - val_loss: 0.9364 - val_accuracy: 0.7519\n",
      "Epoch 2/25\n",
      "212/212 [==============================] - 198s 934ms/step - loss: 0.1584 - accuracy: 0.9666 - val_loss: 0.2894 - val_accuracy: 0.9480\n",
      "Epoch 3/25\n",
      "212/212 [==============================] - 189s 889ms/step - loss: 0.1151 - accuracy: 0.9774 - val_loss: 0.1930 - val_accuracy: 0.9728\n",
      "Epoch 4/25\n",
      "212/212 [==============================] - 189s 891ms/step - loss: 0.0804 - accuracy: 0.9857 - val_loss: 0.2912 - val_accuracy: 0.9545\n",
      "Epoch 5/25\n",
      "212/212 [==============================] - 189s 890ms/step - loss: 0.0336 - accuracy: 0.9932 - val_loss: 0.0715 - val_accuracy: 0.9888\n",
      "Epoch 6/25\n",
      "212/212 [==============================] - 198s 934ms/step - loss: 0.0255 - accuracy: 0.9948 - val_loss: 0.1239 - val_accuracy: 0.9799\n",
      "Epoch 7/25\n",
      "212/212 [==============================] - 189s 889ms/step - loss: 0.0466 - accuracy: 0.9929 - val_loss: 0.1558 - val_accuracy: 0.9781\n",
      "Epoch 8/25\n",
      "212/212 [==============================] - 188s 888ms/step - loss: 0.0754 - accuracy: 0.9864 - val_loss: 0.3083 - val_accuracy: 0.9569\n",
      "Epoch 9/25\n",
      "212/212 [==============================] - 188s 888ms/step - loss: 0.1223 - accuracy: 0.9827 - val_loss: 0.6234 - val_accuracy: 0.9214\n",
      "Epoch 10/25\n",
      "212/212 [==============================] - 188s 888ms/step - loss: 0.0676 - accuracy: 0.9907 - val_loss: 0.0983 - val_accuracy: 0.9882\n",
      "Epoch 11/25\n",
      "212/212 [==============================] - 198s 934ms/step - loss: 0.0194 - accuracy: 0.9956 - val_loss: 0.1730 - val_accuracy: 0.9852\n",
      "Epoch 12/25\n",
      "212/212 [==============================] - 189s 889ms/step - loss: 0.0102 - accuracy: 0.9976 - val_loss: 0.1166 - val_accuracy: 0.9900\n",
      "Epoch 13/25\n",
      "212/212 [==============================] - 189s 889ms/step - loss: 0.0056 - accuracy: 0.9987 - val_loss: 0.1323 - val_accuracy: 0.9876\n",
      "Epoch 14/25\n",
      "212/212 [==============================] - 189s 889ms/step - loss: 0.0257 - accuracy: 0.9951 - val_loss: 0.1712 - val_accuracy: 0.9870\n",
      "Epoch 15/25\n",
      "212/212 [==============================] - 189s 889ms/step - loss: 0.0842 - accuracy: 0.9897 - val_loss: 1.0786 - val_accuracy: 0.9167\n",
      "Epoch 16/25\n",
      "212/212 [==============================] - 189s 889ms/step - loss: 0.0737 - accuracy: 0.9907 - val_loss: 0.2722 - val_accuracy: 0.9846\n",
      "Epoch 17/25\n",
      "212/212 [==============================] - 189s 889ms/step - loss: 0.0649 - accuracy: 0.9928 - val_loss: 0.1526 - val_accuracy: 0.9870\n",
      "Epoch 18/25\n",
      "212/212 [==============================] - 188s 888ms/step - loss: 0.0557 - accuracy: 0.9941 - val_loss: 0.2796 - val_accuracy: 0.9846\n",
      "Epoch 19/25\n",
      "212/212 [==============================] - 188s 888ms/step - loss: 0.0642 - accuracy: 0.9931 - val_loss: 0.2745 - val_accuracy: 0.9864\n",
      "Epoch 20/25\n",
      "212/212 [==============================] - 188s 888ms/step - loss: 0.0206 - accuracy: 0.9975 - val_loss: 0.4778 - val_accuracy: 0.9628\n",
      "Epoch 21/25\n",
      "212/212 [==============================] - 198s 934ms/step - loss: 0.0340 - accuracy: 0.9959 - val_loss: 0.3190 - val_accuracy: 0.9823\n",
      "Epoch 22/25\n",
      "212/212 [==============================] - 188s 888ms/step - loss: 0.0201 - accuracy: 0.9965 - val_loss: 0.2813 - val_accuracy: 0.9846\n",
      "Epoch 23/25\n",
      "212/212 [==============================] - 198s 932ms/step - loss: 0.0163 - accuracy: 0.9975 - val_loss: 0.2120 - val_accuracy: 0.9864\n",
      "Epoch 24/25\n",
      "212/212 [==============================] - 189s 888ms/step - loss: 0.0662 - accuracy: 0.9939 - val_loss: 0.1813 - val_accuracy: 0.9864\n",
      "Epoch 25/25\n",
      "212/212 [==============================] - 188s 886ms/step - loss: 0.0441 - accuracy: 0.9962 - val_loss: 0.2172 - val_accuracy: 0.9882\n"
     ]
    }
   ],
   "source": [
    "model.compile(optimizer='Adam', loss='BinaryCrossentropy', metrics=['accuracy'])\n",
    "hist = model.fit(train_gen, epochs = 25,\n",
    "#                  steps_per_epoch = 4872//32,\n",
    "                 validation_data = val_gen,\n",
    "#                  validation_steps = 1218//32, #previously 125//32\n",
    "                 class_weight=class_weights_dict\n",
    "                )\n"
   ]
  },
  {
   "cell_type": "markdown",
   "id": "35389ff7",
   "metadata": {
    "id": "35389ff7"
   },
   "source": [
    "### SAVE the model"
   ]
  },
  {
   "cell_type": "code",
   "execution_count": null,
   "id": "7d8cfbf3",
   "metadata": {
    "colab": {
     "base_uri": "https://localhost:8080/"
    },
    "executionInfo": {
     "elapsed": 6,
     "status": "ok",
     "timestamp": 1705476178576,
     "user": {
      "displayName": "Debottama Hazarika",
      "userId": "06795409176620158804"
     },
     "user_tz": -330
    },
    "id": "7d8cfbf3",
    "outputId": "f1f365b6-4cea-444b-d249-10427cdc7b81",
    "scrolled": true
   },
   "outputs": [
    {
     "name": "stderr",
     "output_type": "stream",
     "text": [
      "/usr/local/lib/python3.10/dist-packages/keras/src/engine/training.py:3103: UserWarning: You are saving your model as an HDF5 file via `model.save()`. This file format is considered legacy. We recommend using instead the native Keras format, e.g. `model.save('my_model.keras')`.\n",
      "  saving_api.save_model(\n"
     ]
    }
   ],
   "source": [
    "# saving model\n",
    "model.save(\"/content/drive/MyDrive/ga_detection_1/ga_det_final_1.h5\")"
   ]
  },
  {
   "cell_type": "markdown",
   "id": "a751ce80",
   "metadata": {
    "id": "a751ce80"
   },
   "source": [
    "### SAVE the history"
   ]
  },
  {
   "cell_type": "code",
   "execution_count": null,
   "id": "881f3cbe",
   "metadata": {
    "id": "881f3cbe"
   },
   "outputs": [],
   "source": [
    "# saving history \n",
    "with open('/content/drive/MyDrive/ga_detection_1/ga_det_final_1_history.pkl', 'wb') as file:\n",
    "    pickle.dump(hist.history, file)"
   ]
  },
  {
   "cell_type": "markdown",
   "id": "fe037d3f",
   "metadata": {
    "id": "fe037d3f"
   },
   "source": [
    "### LOAD the model"
   ]
  },
  {
   "cell_type": "code",
   "execution_count": null,
   "id": "bbdc8615",
   "metadata": {
    "id": "bbdc8615"
   },
   "outputs": [],
   "source": [
    "# loading model and history\n",
    "from keras.models import load_model\n",
    "\n",
    "# Load the model\n",
    "loaded_model = load_model(\"/content/drive/MyDrive/ga_detection_1/ga_det_final_1.h5\")"
   ]
  },
  {
   "cell_type": "markdown",
   "id": "841187ec",
   "metadata": {
    "id": "841187ec"
   },
   "source": [
    "### LOAD the history"
   ]
  },
  {
   "cell_type": "code",
   "execution_count": null,
   "id": "14d2e533",
   "metadata": {
    "id": "14d2e533"
   },
   "outputs": [],
   "source": [
    "# Load the history\n",
    "with open('/content/drive/MyDrive/ga_detection_1/ga_det_final_1_history.pkl', 'rb') as file:\n",
    "    loaded_history = pickle.load(file)"
   ]
  },
  {
   "cell_type": "markdown",
   "id": "ce805a49",
   "metadata": {},
   "source": [
    "### Loss plot"
   ]
  },
  {
   "cell_type": "code",
   "execution_count": null,
   "id": "2a077dfd",
   "metadata": {
    "colab": {
     "base_uri": "https://localhost:8080/",
     "height": 460
    },
    "executionInfo": {
     "elapsed": 950,
     "status": "ok",
     "timestamp": 1705476483822,
     "user": {
      "displayName": "Debottama Hazarika",
      "userId": "06795409176620158804"
     },
     "user_tz": -330
    },
    "id": "2a077dfd",
    "outputId": "2fa20c36-df5b-4963-f035-db96d45c612f"
   },
   "outputs": [
    {
     "data": {
      "image/png": "[encoded data removed]",
      "text/plain": [
       "<Figure size 640x480 with 1 Axes>"
      ]
     },
     "metadata": {},
     "output_type": "display_data"
    }
   ],
   "source": [
    "plt.plot(loaded_history['loss'], color='teal', label='loss')\n",
    "plt.plot(loaded_history['val_loss'], color='orange', label='val_loss')\n",
    "plt.title('Loss', fontsize=20)\n",
    "plt.legend(loc=\"upper left\")\n",
    "plt.show()"
   ]
  },
  {
   "cell_type": "markdown",
   "id": "7253393c",
   "metadata": {},
   "source": [
    "### Accuracy plot"
   ]
  },
  {
   "cell_type": "code",
   "execution_count": null,
   "id": "f7864a76",
   "metadata": {
    "colab": {
     "base_uri": "https://localhost:8080/",
     "height": 460
    },
    "executionInfo": {
     "elapsed": 977,
     "status": "ok",
     "timestamp": 1705476501860,
     "user": {
      "displayName": "Debottama Hazarika",
      "userId": "06795409176620158804"
     },
     "user_tz": -330
    },
    "id": "f7864a76",
    "outputId": "f034d043-286d-413a-e397-30e376514401"
   },
   "outputs": [
    {
     "data": {
      "image/png": "[encoded data removed]",
      "text/plain": [
       "<Figure size 640x480 with 1 Axes>"
      ]
     },
     "metadata": {},
     "output_type": "display_data"
    }
   ],
   "source": [
    "# accuracy plot\n",
    "plt.plot(loaded_history['accuracy'], color='teal', label='Accuracy')\n",
    "plt.plot(loaded_history['val_accuracy'], color='orange', label='val_accuracy')\n",
    "plt.title('accuracy', fontsize=20)\n",
    "plt.legend(loc=\"upper left\")\n",
    "plt.show()"
   ]
  },
  {
   "cell_type": "markdown",
   "id": "dcb1cf06",
   "metadata": {
    "id": "dcb1cf06"
   },
   "source": [
    "### Evaluation"
   ]
  },
  {
   "cell_type": "code",
   "execution_count": null,
   "id": "91b70a68",
   "metadata": {
    "colab": {
     "base_uri": "https://localhost:8080/"
    },
    "executionInfo": {
     "elapsed": 154751,
     "status": "ok",
     "timestamp": 1706595377642,
     "user": {
      "displayName": "Debottama Hazarika",
      "userId": "06795409176620158804"
     },
     "user_tz": -330
    },
    "id": "91b70a68",
    "outputId": "c904c67e-0177-4f56-b31a-3018e822cd7b",
    "scrolled": false
   },
   "outputs": [
    {
     "name": "stdout",
     "output_type": "stream",
     "text": [
      "30/30 [==============================] - 151s 5s/step\n",
      "Confusion Matrix:\n",
      "[[307   3]\n",
      " [  5 626]]\n",
      "Accuracy: 0.9914984059511158\n",
      "Precision: 0.9952305246422893\n",
      "Recall: 0.9920760697305864\n",
      "F1 Score: 0.9936507936507937\n"
     ]
    }
   ],
   "source": [
    "from sklearn.metrics import confusion_matrix, accuracy_score, precision_score, recall_score, f1_score\n",
    "\n",
    "# Assuming 'model' is your binary classification model and 'test_gen' is your test generator\n",
    "\n",
    "# Get predicted probabilities for the positive class (class 1)\n",
    "y_pred_probs = loaded_model.predict(test_gen)\n",
    "\n",
    "\n",
    "y_pred = (y_pred_probs >= 0.2).astype(int)\n",
    "\n",
    "# Get true labels from the test generator\n",
    "y_true = test_gen.classes\n",
    "\n",
    "# Compute confusion matrix\n",
    "conf_matrix = confusion_matrix(y_true, y_pred)\n",
    "print(\"Confusion Matrix:\")\n",
    "print(conf_matrix)\n",
    "\n",
    "# Calculate additional binary classification metrics\n",
    "accuracy = accuracy_score(y_true, y_pred)\n",
    "precision = precision_score(y_true, y_pred)\n",
    "recall = recall_score(y_true, y_pred)\n",
    "f1 = f1_score(y_true, y_pred)\n",
    "\n",
    "print(\"Accuracy:\", accuracy)\n",
    "print(\"Precision:\", precision)\n",
    "print(\"Recall:\", recall)\n",
    "print(\"F1 Score:\", f1)\n"
   ]
  },
  {
   "cell_type": "markdown",
   "id": "c35d8781",
   "metadata": {},
   "source": [
    "#### Confusion Matrix"
   ]
  },
  {
   "cell_type": "code",
   "execution_count": null,
   "id": "Ifcj_NCGVpiF",
   "metadata": {
    "colab": {
     "base_uri": "https://localhost:8080/",
     "height": 388
    },
    "executionInfo": {
     "elapsed": 551,
     "status": "ok",
     "timestamp": 1705477317853,
     "user": {
      "displayName": "Debottama Hazarika",
      "userId": "06795409176620158804"
     },
     "user_tz": -330
    },
    "id": "Ifcj_NCGVpiF",
    "outputId": "6ba90ce2-76d8-457e-ddbf-a56fa6f502ef"
   },
   "outputs": [
    {
     "data": {
      "image/png": "[encoded data removed]",
      "text/plain": [
       "<Figure size 400x400 with 2 Axes>"
      ]
     },
     "metadata": {},
     "output_type": "display_data"
    }
   ],
   "source": [
    "import seaborn as sns\n",
    "fig, ax = plt.subplots(figsize=(4,4))\n",
    "sns.heatmap(conf_matrix,fmt='d', annot=True,xticklabels=['CO','PD'], yticklabels=['CO','PD'])\n",
    "plt.ylabel('Actual')\n",
    "plt.xlabel('Predicted')\n",
    "plt.show(block=False)"
   ]
  },
  {
   "cell_type": "code",
   "execution_count": null,
   "id": "7_AqSIwwAznW",
   "metadata": {
    "colab": {
     "base_uri": "https://localhost:8080/",
     "height": 388
    },
    "executionInfo": {
     "elapsed": 1022,
     "status": "ok",
     "timestamp": 1706595410282,
     "user": {
      "displayName": "Debottama Hazarika",
      "userId": "06795409176620158804"
     },
     "user_tz": -330
    },
    "id": "7_AqSIwwAznW",
    "outputId": "96850fd5-43bf-4945-f397-a1a2512de2a1"
   },
   "outputs": [
    {
     "data": {
      "image/png": "[encoded data removed]",
      "text/plain": [
       "<Figure size 400x400 with 2 Axes>"
      ]
     },
     "metadata": {},
     "output_type": "display_data"
    }
   ],
   "source": [
    "import seaborn as sns\n",
    "cm=conf_matrix\n",
    "fig, ax = plt.subplots(figsize=(4,4))\n",
    "cmn = cm.astype('float') / cm.sum(axis=1)[:, np.newaxis]\n",
    "sns.heatmap(cmn,fmt='.2f', annot=True,xticklabels=['CO','PD'], yticklabels=['CO','PD'])\n",
    "plt.ylabel('Actual')\n",
    "plt.xlabel('Predicted')\n",
    "plt.show(block=False)"
   ]
  },
  {
   "cell_type": "code",
   "execution_count": null,
   "id": "Qb_dmEAJ418T",
   "metadata": {
    "colab": {
     "base_uri": "https://localhost:8080/"
    },
    "executionInfo": {
     "elapsed": 289554,
     "status": "ok",
     "timestamp": 1706711176182,
     "user": {
      "displayName": "Debottama Hazarika",
      "userId": "06795409176620158804"
     },
     "user_tz": -330
    },
    "id": "Qb_dmEAJ418T",
    "outputId": "a5952661-7b66-43b3-f344-c36e95dacd8d"
   },
   "outputs": [
    {
     "name": "stdout",
     "output_type": "stream",
     "text": [
      "30/30 [==============================] - 285s 10s/step\n",
      "Confusion Matrix:\n",
      "[[307   3]\n",
      " [  8 623]]\n",
      "Accuracy: 0.9883103081827843\n",
      "Precision: 0.9952076677316294\n",
      "Recall: 0.9873217115689382\n",
      "F1 Score: 0.9912490055688147\n"
     ]
    }
   ],
   "source": [
    "from sklearn.metrics import confusion_matrix, accuracy_score, precision_score, recall_score, f1_score\n",
    "\n",
    "# Assuming 'model' is your binary classification model and 'test_gen' is your test generator\n",
    "\n",
    "# Get predicted probabilities for the positive class (class 1)\n",
    "y_pred_probs = loaded_model.predict(test_gen)\n",
    "\n",
    "\n",
    "y_pred = (y_pred_probs >= 0.5).astype(int)\n",
    "\n",
    "# Get true labels from the test generator\n",
    "y_true = test_gen.classes\n",
    "\n",
    "# Compute confusion matrix\n",
    "conf_matrix = confusion_matrix(y_true, y_pred)\n",
    "print(\"Confusion Matrix:\")\n",
    "print(conf_matrix)\n",
    "\n",
    "# Calculate additional binary classification metrics\n",
    "accuracy = accuracy_score(y_true, y_pred)\n",
    "precision = precision_score(y_true, y_pred)\n",
    "recall = recall_score(y_true, y_pred)\n",
    "f1 = f1_score(y_true, y_pred)\n",
    "\n",
    "print(\"Accuracy:\", accuracy)\n",
    "print(\"Precision:\", precision)\n",
    "print(\"Recall:\", recall)\n",
    "print(\"F1 Score:\", f1)\n"
   ]
  }
 ],
 "metadata": {
  "colab": {
   "provenance": []
  },
  "kernelspec": {
   "display_name": "Python 3",
   "name": "python3"
  },
  "language_info": {
   "codemirror_mode": {
    "name": "ipython",
    "version": 3
   },
   "file_extension": ".py",
   "mimetype": "text/x-python",
   "name": "python",
   "nbconvert_exporter": "python",
   "pygments_lexer": "ipython3",
   "version": "3.10.13"
  }
 },
 "nbformat": 4,
 "nbformat_minor": 5
}
