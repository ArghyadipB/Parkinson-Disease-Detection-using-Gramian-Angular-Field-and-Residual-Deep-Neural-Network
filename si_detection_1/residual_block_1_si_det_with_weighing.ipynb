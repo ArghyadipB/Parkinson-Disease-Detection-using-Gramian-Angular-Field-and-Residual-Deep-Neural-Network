{
 "cells": [
  {
   "cell_type": "code",
   "execution_count": 1,
   "id": "77017197",
   "metadata": {
    "executionInfo": {
     "elapsed": 5486,
     "status": "ok",
     "timestamp": 1706594034718,
     "user": {
      "displayName": "Debottama Hazarika",
      "userId": "06795409176620158804"
     },
     "user_tz": -330
    },
    "id": "77017197"
   },
   "outputs": [],
   "source": [
    "from tensorflow.keras.layers import Input, Conv2D, BatchNormalization, Activation, add,GlobalAveragePooling2D, AveragePooling2D, Flatten, Dense, Dropout\n",
    "from tensorflow.keras.models import Model, load_model\n",
    "from keras.utils import plot_model\n",
    "import numpy as np\n",
    "from tensorflow.keras.utils import image_dataset_from_directory\n",
    "from tensorflow.keras.metrics import Precision, Recall, BinaryAccuracy\n",
    "from matplotlib import pyplot as plt\n",
    "import pickle\n",
    "from sklearn.utils.class_weight import compute_class_weight\n",
    "from tensorflow.keras.preprocessing.image import ImageDataGenerator"
   ]
  },
  {
   "cell_type": "code",
   "execution_count": 2,
   "id": "fVUcVOimwrUE",
   "metadata": {
    "colab": {
     "base_uri": "https://localhost:8080/"
    },
    "executionInfo": {
     "elapsed": 33123,
     "status": "ok",
     "timestamp": 1706594072102,
     "user": {
      "displayName": "Debottama Hazarika",
      "userId": "06795409176620158804"
     },
     "user_tz": -330
    },
    "id": "fVUcVOimwrUE",
    "outputId": "ec527583-2c42-4320-ecd6-cd2859411bcd"
   },
   "outputs": [
    {
     "name": "stdout",
     "output_type": "stream",
     "text": [
      "Mounted at /content/drive\n"
     ]
    }
   ],
   "source": [
    "from google.colab import drive\n",
    "drive.mount('/content/drive')"
   ]
  },
  {
   "cell_type": "markdown",
   "id": "070e57e0",
   "metadata": {},
   "source": [
    "### Model "
   ]
  },
  {
   "cell_type": "code",
   "execution_count": 3,
   "id": "efe196f3",
   "metadata": {
    "executionInfo": {
     "elapsed": 4,
     "status": "ok",
     "timestamp": 1706592832175,
     "user": {
      "displayName": "Debottama Hazarika",
      "userId": "06795409176620158804"
     },
     "user_tz": -330
    },
    "id": "efe196f3"
   },
   "outputs": [],
   "source": [
    "def residual_block(input_tensor, filters, stride):\n",
    "    if stride != 1 :\n",
    "        shortcut = Conv2D(filters, kernel_size=(1, 1), padding='same', strides=stride)(input_tensor)\n",
    "    else:\n",
    "        shortcut = input_tensor\n",
    "\n",
    "    x = Conv2D(filters, kernel_size=(3, 3), padding='same', strides=stride)(input_tensor)\n",
    "    x = BatchNormalization()(x)\n",
    "    x = Activation('relu')(x)\n",
    "\n",
    "    x = Conv2D(filters, kernel_size=(3, 3), padding='same')(x)\n",
    "    x = BatchNormalization()(x)\n",
    "\n",
    "    x = add([x, shortcut])\n",
    "#     x = Activation('relu')(x)\n",
    "\n",
    "    return x\n",
    "\n",
    "\n",
    "def layer_n(input_image,b1,b2,b3,b4,b5): #b1 = 5, b2 = 2, b3 = 4, b4 = 2, b5 = 3\n",
    "\n",
    "    # low level feature extractor\n",
    "\n",
    "    def_out = Conv2D(16, kernel_size = (3,3), input_shape=(400, 400, 1))(input_image)\n",
    "    def_out = BatchNormalization()(def_out)\n",
    "    def_out = Activation('relu')(def_out)\n",
    "\n",
    "    # High level feature extractor\n",
    "\n",
    "    x = def_out\n",
    "\n",
    "    for _ in range(b1):\n",
    "        x = residual_block(x,16,1)\n",
    "\n",
    "    for _ in range(b2):\n",
    "        x = residual_block(x,32,2)\n",
    "\n",
    "    for _ in range(b3):\n",
    "        x = residual_block(x,32,1)\n",
    "\n",
    "    for _ in range(b4):\n",
    "        x = residual_block(x,64,2)\n",
    "\n",
    "    for _ in range(b5):\n",
    "        x = residual_block(x,64,1)\n",
    "\n",
    "    x = AveragePooling2D(pool_size=(2, 2))(x)\n",
    "#     x=GlobalAveragePooling2D()(x)\n",
    "\n",
    "    x = Flatten()(x)\n",
    "    x = Dense(1, activation='sigmoid')(x)\n",
    "\n",
    "    return x"
   ]
  },
  {
   "cell_type": "code",
   "execution_count": null,
   "id": "7682aa52",
   "metadata": {
    "id": "7682aa52"
   },
   "outputs": [],
   "source": [
    "# input_image = tf.convert_to_tensor(np.random.rand(1, 400, 400, 3), np.float32)\n",
    "# result = layer_n(input_image, 5, 2, 4, 2, 3)"
   ]
  },
  {
   "cell_type": "code",
   "execution_count": null,
   "id": "c84146d5",
   "metadata": {
    "id": "c84146d5"
   },
   "outputs": [],
   "source": [
    "# print(result.shape)"
   ]
  },
  {
   "cell_type": "code",
   "execution_count": 5,
   "id": "e28244b6",
   "metadata": {
    "executionInfo": {
     "elapsed": 1890,
     "status": "ok",
     "timestamp": 1706592866115,
     "user": {
      "displayName": "Debottama Hazarika",
      "userId": "06795409176620158804"
     },
     "user_tz": -330
    },
    "id": "e28244b6"
   },
   "outputs": [],
   "source": [
    "inputs = Input(shape=(400, 400, 1))\n",
    "result = layer_n(inputs, 3, 2, 2, 2, 3)\n",
    "model = Model(inputs=inputs, outputs=result)"
   ]
  },
  {
   "cell_type": "code",
   "execution_count": null,
   "id": "500127e2",
   "metadata": {
    "id": "500127e2",
    "scrolled": true
   },
   "outputs": [],
   "source": [
    "# plot_model(model)"
   ]
  },
  {
   "cell_type": "markdown",
   "id": "2772b63c",
   "metadata": {},
   "source": [
    "### Data Loading"
   ]
  },
  {
   "cell_type": "code",
   "execution_count": 3,
   "id": "1749aded",
   "metadata": {
    "colab": {
     "base_uri": "https://localhost:8080/"
    },
    "executionInfo": {
     "elapsed": 21405,
     "status": "ok",
     "timestamp": 1706594093502,
     "user": {
      "displayName": "Debottama Hazarika",
      "userId": "06795409176620158804"
     },
     "user_tz": -330
    },
    "id": "1749aded",
    "outputId": "cd3cc3a6-f5b1-4b7c-d4ca-cc6440d698c0"
   },
   "outputs": [
    {
     "name": "stdout",
     "output_type": "stream",
     "text": [
      "Found 4062 images belonging to 2 classes.\n",
      "Found 1014 images belonging to 2 classes.\n",
      "Found 563 images belonging to 2 classes.\n"
     ]
    }
   ],
   "source": [
    "\n",
    "train_datagen = ImageDataGenerator(\n",
    "#     rotation_range=10,\n",
    "#     width_shift_range=0.2,\n",
    "#     height_shift_range=0.2,\n",
    "#     shear_range=0.2,\n",
    "#     zoom_range=0.2,\n",
    "#     horizontal_flip=True,\n",
    "#     fill_mode='nearest'\n",
    ")\n",
    "\n",
    "\n",
    "train_gen = train_datagen.flow_from_directory(\n",
    "    \"/content/drive/MyDrive/si_detection_1/si_det_train_test_val/train\",\n",
    "    target_size=(400, 400),  # Adjust as per your image size\n",
    "    batch_size=32,\n",
    "    class_mode='sparse',\n",
    "    color_mode = 'grayscale',\n",
    "    seed=42,\n",
    "    shuffle=True\n",
    ")\n",
    "\n",
    "val_test_datagen = ImageDataGenerator()\n",
    "\n",
    "val_gen = val_test_datagen.flow_from_directory(\n",
    "    \"/content/drive/MyDrive/si_detection_1/si_det_train_test_val/val\",\n",
    "    target_size=(400, 400),  # Adjust as per your image size\n",
    "    batch_size=32,\n",
    "    class_mode='sparse',\n",
    "    color_mode = 'grayscale',\n",
    "    seed=42,\n",
    "    shuffle=False,\n",
    ")\n",
    "\n",
    "test_gen = val_test_datagen.flow_from_directory(\n",
    "    \"/content/drive/MyDrive/si_detection_1/si_det_train_test_val/test\",\n",
    "    target_size=(400, 400),  # Adjust as per your image size\n",
    "    batch_size=32,\n",
    "    class_mode='sparse',\n",
    "    color_mode = 'grayscale',\n",
    "    seed=42,\n",
    "    shuffle=False,\n",
    ")"
   ]
  },
  {
   "cell_type": "code",
   "execution_count": 7,
   "id": "59a569ca",
   "metadata": {
    "executionInfo": {
     "elapsed": 553,
     "status": "ok",
     "timestamp": 1706592902166,
     "user": {
      "displayName": "Debottama Hazarika",
      "userId": "06795409176620158804"
     },
     "user_tz": -330
    },
    "id": "59a569ca"
   },
   "outputs": [],
   "source": [
    "unique_classes = np.unique(train_gen.classes)\n",
    "\n",
    "# Calculate class weights\n",
    "class_weights = compute_class_weight('balanced',classes = unique_classes,y=train_gen.classes)\n",
    "class_weights_dict = dict(zip(unique_classes, class_weights))"
   ]
  },
  {
   "cell_type": "code",
   "execution_count": null,
   "id": "af05ea23",
   "metadata": {
    "colab": {
     "base_uri": "https://localhost:8080/"
    },
    "executionInfo": {
     "elapsed": 639,
     "status": "ok",
     "timestamp": 1706588481469,
     "user": {
      "displayName": "Debottama Hazarika",
      "userId": "06795409176620158804"
     },
     "user_tz": -330
    },
    "id": "af05ea23",
    "outputId": "1466fd71-6418-4ff5-ceb5-4feec97f83a4"
   },
   "outputs": [
    {
     "name": "stdout",
     "output_type": "stream",
     "text": [
      "{0: 1.0723336853220697, 1: 0.9368081180811808}\n"
     ]
    }
   ],
   "source": [
    "print(class_weights_dict)"
   ]
  },
  {
   "cell_type": "markdown",
   "id": "342dfe9f",
   "metadata": {
    "id": "342dfe9f"
   },
   "source": [
    "### Model training"
   ]
  },
  {
   "cell_type": "code",
   "execution_count": null,
   "id": "e3347bb7",
   "metadata": {
    "colab": {
     "background_save": true,
     "base_uri": "https://localhost:8080/"
    },
    "id": "e3347bb7",
    "outputId": "3e779277-8e88-4e67-f220-b3effdffa7cf",
    "scrolled": false
   },
   "outputs": [
    {
     "name": "stdout",
     "output_type": "stream",
     "text": [
      "Epoch 1/25\n",
      "127/127 [==============================] - ETA: 0s - loss: 0.4639 - accuracy: 0.9077\n",
      "Epoch 1: val_accuracy improved from -inf to 0.92505, saving model to /content/drive/MyDrive/si_detection_1/si_det_final_2.h5\n"
     ]
    },
    {
     "name": "stderr",
     "output_type": "stream",
     "text": [
      "/usr/local/lib/python3.10/dist-packages/keras/src/engine/training.py:3103: UserWarning: You are saving your model as an HDF5 file via `model.save()`. This file format is considered legacy. We recommend using instead the native Keras format, e.g. `model.save('my_model.keras')`.\n",
      "  saving_api.save_model(\n"
     ]
    },
    {
     "name": "stdout",
     "output_type": "stream",
     "text": [
      "127/127 [==============================] - 1149s 9s/step - loss: 0.4639 - accuracy: 0.9077 - val_loss: 0.1946 - val_accuracy: 0.9250\n",
      "Epoch 2/25\n",
      "127/127 [==============================] - ETA: 0s - loss: 0.0470 - accuracy: 0.9818\n",
      "Epoch 2: val_accuracy did not improve from 0.92505\n",
      "127/127 [==============================] - 106s 837ms/step - loss: 0.0470 - accuracy: 0.9818 - val_loss: 0.2609 - val_accuracy: 0.9034\n",
      "Epoch 3/25\n",
      "127/127 [==============================] - ETA: 0s - loss: 0.0420 - accuracy: 0.9874\n",
      "Epoch 3: val_accuracy improved from 0.92505 to 0.97830, saving model to /content/drive/MyDrive/si_detection_1/si_det_final_2.h5\n",
      "127/127 [==============================] - 115s 907ms/step - loss: 0.0420 - accuracy: 0.9874 - val_loss: 0.0895 - val_accuracy: 0.9783\n",
      "Epoch 4/25\n",
      "127/127 [==============================] - ETA: 0s - loss: 0.0453 - accuracy: 0.9860\n",
      "Epoch 4: val_accuracy did not improve from 0.97830\n",
      "127/127 [==============================] - 111s 871ms/step - loss: 0.0453 - accuracy: 0.9860 - val_loss: 0.1706 - val_accuracy: 0.9467\n",
      "Epoch 5/25\n",
      "127/127 [==============================] - ETA: 0s - loss: 0.0673 - accuracy: 0.9776\n",
      "Epoch 5: val_accuracy did not improve from 0.97830\n",
      "127/127 [==============================] - 114s 900ms/step - loss: 0.0673 - accuracy: 0.9776 - val_loss: 0.1338 - val_accuracy: 0.9576\n",
      "Epoch 6/25\n",
      "127/127 [==============================] - ETA: 0s - loss: 0.0574 - accuracy: 0.9813\n",
      "Epoch 6: val_accuracy did not improve from 0.97830\n",
      "127/127 [==============================] - 110s 867ms/step - loss: 0.0574 - accuracy: 0.9813 - val_loss: 0.0787 - val_accuracy: 0.9773\n",
      "Epoch 7/25\n",
      "127/127 [==============================] - ETA: 0s - loss: 0.0570 - accuracy: 0.9840\n",
      "Epoch 7: val_accuracy did not improve from 0.97830\n",
      "127/127 [==============================] - 110s 867ms/step - loss: 0.0570 - accuracy: 0.9840 - val_loss: 0.1600 - val_accuracy: 0.9753\n",
      "Epoch 8/25\n",
      "127/127 [==============================] - ETA: 0s - loss: 0.0389 - accuracy: 0.9902\n",
      "Epoch 8: val_accuracy did not improve from 0.97830\n",
      "127/127 [==============================] - 110s 866ms/step - loss: 0.0389 - accuracy: 0.9902 - val_loss: 0.1253 - val_accuracy: 0.9763\n",
      "Epoch 9/25\n",
      "127/127 [==============================] - ETA: 0s - loss: 0.0217 - accuracy: 0.9931\n",
      "Epoch 9: val_accuracy did not improve from 0.97830\n",
      "127/127 [==============================] - 111s 870ms/step - loss: 0.0217 - accuracy: 0.9931 - val_loss: 0.1646 - val_accuracy: 0.9704\n",
      "Epoch 10/25\n",
      "127/127 [==============================] - ETA: 0s - loss: 0.0313 - accuracy: 0.9914\n",
      "Epoch 10: val_accuracy did not improve from 0.97830\n",
      "127/127 [==============================] - 111s 872ms/step - loss: 0.0313 - accuracy: 0.9914 - val_loss: 0.3269 - val_accuracy: 0.9487\n",
      "Epoch 11/25\n",
      "127/127 [==============================] - ETA: 0s - loss: 0.0640 - accuracy: 0.9845\n",
      "Epoch 11: val_accuracy did not improve from 0.97830\n",
      "127/127 [==============================] - 110s 867ms/step - loss: 0.0640 - accuracy: 0.9845 - val_loss: 0.4225 - val_accuracy: 0.9359\n",
      "Epoch 12/25\n",
      "127/127 [==============================] - ETA: 0s - loss: 0.0358 - accuracy: 0.9899\n",
      "Epoch 12: val_accuracy did not improve from 0.97830\n",
      "127/127 [==============================] - 110s 866ms/step - loss: 0.0358 - accuracy: 0.9899 - val_loss: 0.2399 - val_accuracy: 0.9684\n",
      "Epoch 13/25\n",
      "127/127 [==============================] - ETA: 0s - loss: 0.0178 - accuracy: 0.9948\n",
      "Epoch 13: val_accuracy did not improve from 0.97830\n",
      "127/127 [==============================] - 110s 866ms/step - loss: 0.0178 - accuracy: 0.9948 - val_loss: 0.2291 - val_accuracy: 0.9655\n",
      "Epoch 14/25\n",
      "127/127 [==============================] - ETA: 0s - loss: 0.0122 - accuracy: 0.9958\n",
      "Epoch 14: val_accuracy did not improve from 0.97830\n",
      "127/127 [==============================] - 111s 870ms/step - loss: 0.0122 - accuracy: 0.9958 - val_loss: 0.2050 - val_accuracy: 0.9586\n",
      "Epoch 15/25\n",
      "127/127 [==============================] - ETA: 0s - loss: 0.0562 - accuracy: 0.9899\n",
      "Epoch 15: val_accuracy did not improve from 0.97830\n",
      "127/127 [==============================] - 111s 870ms/step - loss: 0.0562 - accuracy: 0.9899 - val_loss: 0.1954 - val_accuracy: 0.9675\n",
      "Epoch 16/25\n",
      "127/127 [==============================] - ETA: 0s - loss: 0.0821 - accuracy: 0.9855\n",
      "Epoch 16: val_accuracy did not improve from 0.97830\n",
      "127/127 [==============================] - 111s 871ms/step - loss: 0.0821 - accuracy: 0.9855 - val_loss: 0.3040 - val_accuracy: 0.9566\n",
      "Epoch 17/25\n",
      "127/127 [==============================] - ETA: 0s - loss: 0.0244 - accuracy: 0.9931\n",
      "Epoch 17: val_accuracy did not improve from 0.97830\n",
      "127/127 [==============================] - 111s 872ms/step - loss: 0.0244 - accuracy: 0.9931 - val_loss: 0.1602 - val_accuracy: 0.9763\n",
      "Epoch 18/25\n",
      "127/127 [==============================] - ETA: 0s - loss: 0.0310 - accuracy: 0.9926\n",
      "Epoch 18: val_accuracy did not improve from 0.97830\n",
      "127/127 [==============================] - 111s 871ms/step - loss: 0.0310 - accuracy: 0.9926 - val_loss: 0.1907 - val_accuracy: 0.9753\n",
      "Epoch 19/25\n",
      "127/127 [==============================] - ETA: 0s - loss: 0.0377 - accuracy: 0.9924\n",
      "Epoch 19: val_accuracy did not improve from 0.97830\n",
      "127/127 [==============================] - 111s 870ms/step - loss: 0.0377 - accuracy: 0.9924 - val_loss: 0.2656 - val_accuracy: 0.9724\n",
      "Epoch 20/25\n",
      "101/127 [======================>.......] - ETA: 21s - loss: 0.0111 - accuracy: 0.9969"
     ]
    }
   ],
   "source": [
    "from tensorflow.keras.callbacks import ModelCheckpoint\n",
    "\n",
    "# Define the ModelCheckpoint callback\n",
    "checkpoint = ModelCheckpoint(\"/content/drive/MyDrive/si_detection_1/si_det_final_2.h5\"\n",
    ", monitor='val_accuracy', save_best_only=True, mode='max', verbose=1)\n",
    "\n",
    "# Compile the model\n",
    "model.compile(optimizer='Adam', loss='binary_crossentropy', metrics=['accuracy'])\n",
    "\n",
    "# Train the model with ModelCheckpoint callback\n",
    "hist = model.fit(train_gen, epochs=25,\n",
    "                 validation_data=val_gen,\n",
    "                 class_weight=class_weights_dict,\n",
    "                 callbacks=[checkpoint])\n",
    "\n"
   ]
  },
  {
   "cell_type": "markdown",
   "id": "fe037d3f",
   "metadata": {
    "id": "fe037d3f"
   },
   "source": [
    "### Model loading"
   ]
  },
  {
   "cell_type": "code",
   "execution_count": 4,
   "id": "bbdc8615",
   "metadata": {
    "executionInfo": {
     "elapsed": 4192,
     "status": "ok",
     "timestamp": 1706594116706,
     "user": {
      "displayName": "Debottama Hazarika",
      "userId": "06795409176620158804"
     },
     "user_tz": -330
    },
    "id": "bbdc8615"
   },
   "outputs": [],
   "source": [
    "# loading model and history\n",
    "from keras.models import load_model\n",
    "\n",
    "# Load the model\n",
    "loaded_model = load_model(\"/content/drive/MyDrive/si_detection_1/si_det_final_2.h5\")\n",
    "\n"
   ]
  },
  {
   "cell_type": "markdown",
   "id": "88b5319d",
   "metadata": {},
   "source": [
    "### Model Evaluation"
   ]
  },
  {
   "cell_type": "code",
   "execution_count": 13,
   "id": "91b70a68",
   "metadata": {
    "colab": {
     "base_uri": "https://localhost:8080/"
    },
    "executionInfo": {
     "elapsed": 5630,
     "status": "ok",
     "timestamp": 1706594702944,
     "user": {
      "displayName": "Debottama Hazarika",
      "userId": "06795409176620158804"
     },
     "user_tz": -330
    },
    "id": "91b70a68",
    "outputId": "6dcf61ee-f9c6-4c2e-9981-a2565560554d",
    "scrolled": false
   },
   "outputs": [
    {
     "name": "stdout",
     "output_type": "stream",
     "text": [
      "18/18 [==============================] - 4s 224ms/step\n",
      "Confusion Matrix:\n",
      "[[258   5]\n",
      " [  2 298]]\n",
      "Accuracy: 0.9875666074600356\n",
      "Precision: 0.9834983498349835\n",
      "Recall: 0.9933333333333333\n",
      "F1 Score: 0.9883913764510779\n"
     ]
    }
   ],
   "source": [
    "from sklearn.metrics import confusion_matrix, accuracy_score, precision_score, recall_score, f1_score\n",
    "\n",
    "# Assuming 'model' is your binary classification model and 'test_gen' is your test generator\n",
    "\n",
    "# Get predicted probabilities for the positive class (class 1)\n",
    "y_pred_probs = loaded_model.predict(test_gen)\n",
    "\n",
    "\n",
    "y_pred = (y_pred_probs >= 0.3).astype(int)\n",
    "\n",
    "# Get true labels from the test generator\n",
    "y_true = test_gen.classes\n",
    "\n",
    "# Compute confusion matrix\n",
    "conf_matrix = confusion_matrix(y_true, y_pred)\n",
    "print(\"Confusion Matrix:\")\n",
    "print(conf_matrix)\n",
    "\n",
    "# Calculate additional binary classification metrics\n",
    "accuracy = accuracy_score(y_true, y_pred)\n",
    "precision = precision_score(y_true, y_pred)\n",
    "recall = recall_score(y_true, y_pred)\n",
    "f1 = f1_score(y_true, y_pred)\n",
    "\n",
    "print(\"Accuracy:\", accuracy)\n",
    "print(\"Precision:\", precision)\n",
    "print(\"Recall:\", recall)\n",
    "print(\"F1 Score:\", f1)"
   ]
  },
  {
   "cell_type": "code",
   "execution_count": 20,
   "id": "F9tOc79S_BFi",
   "metadata": {
    "colab": {
     "base_uri": "https://localhost:8080/",
     "height": 388
    },
    "executionInfo": {
     "elapsed": 9,
     "status": "ok",
     "timestamp": 1706594995841,
     "user": {
      "displayName": "Debottama Hazarika",
      "userId": "06795409176620158804"
     },
     "user_tz": -330
    },
    "id": "F9tOc79S_BFi",
    "outputId": "c0aad09a-7b42-4cad-8ba6-cb37f5e70ae2"
   },
   "outputs": [
    {
     "data": {
      "image/png": "[encoded data removed]",
      "text/plain": [
       "<Figure size 400x400 with 2 Axes>"
      ]
     },
     "metadata": {},
     "output_type": "display_data"
    }
   ],
   "source": [
    "import seaborn as sns\n",
    "# cm=conf_matrix\n",
    "fig, ax = plt.subplots(figsize=(4,4))\n",
    "# cmn = cm.astype('float') / cm.sum(axis=1)[:, np.newaxis]\n",
    "sns.heatmap(conf_matrix,fmt='d', annot=True,xticklabels=['CO','PD'], yticklabels=['CO','PD'])\n",
    "plt.ylabel('Actual')\n",
    "plt.xlabel('Predicted')\n",
    "plt.show(block=False)"
   ]
  },
  {
   "cell_type": "code",
   "execution_count": 16,
   "id": "Ifcj_NCGVpiF",
   "metadata": {
    "colab": {
     "base_uri": "https://localhost:8080/",
     "height": 388
    },
    "executionInfo": {
     "elapsed": 15,
     "status": "ok",
     "timestamp": 1706594852324,
     "user": {
      "displayName": "Debottama Hazarika",
      "userId": "06795409176620158804"
     },
     "user_tz": -330
    },
    "id": "Ifcj_NCGVpiF",
    "outputId": "208ba579-ed32-49fa-ff84-45a967a9eec7"
   },
   "outputs": [
    {
     "data": {
      "image/png": "[encoded data removed]",
      "text/plain": [
       "<Figure size 400x400 with 2 Axes>"
      ]
     },
     "metadata": {},
     "output_type": "display_data"
    }
   ],
   "source": [
    "import seaborn as sns\n",
    "cm=conf_matrix\n",
    "fig, ax = plt.subplots(figsize=(4,4))\n",
    "cmn = cm.astype('float') / cm.sum(axis=1)[:, np.newaxis]\n",
    "sns.heatmap(cmn,fmt='.2f', annot=True,xticklabels=['CO','PD'], yticklabels=['CO','PD'])\n",
    "plt.ylabel('Actual')\n",
    "plt.xlabel('Predicted')\n",
    "plt.show(block=False)"
   ]
  }
 ],
 "metadata": {
  "colab": {
   "provenance": []
  },
  "kernelspec": {
   "display_name": "Python 3",
   "name": "python3"
  },
  "language_info": {
   "codemirror_mode": {
    "name": "ipython",
    "version": 3
   },
   "file_extension": ".py",
   "mimetype": "text/x-python",
   "name": "python",
   "nbconvert_exporter": "python",
   "pygments_lexer": "ipython3",
   "version": "3.10.13"
  }
 },
 "nbformat": 4,
 "nbformat_minor": 5
}
