{
 "cells": [
  {
   "cell_type": "code",
   "execution_count": 1,
   "id": "77017197",
   "metadata": {
    "executionInfo": {
     "elapsed": 3243,
     "status": "ok",
     "timestamp": 1708772464836,
     "user": {
      "displayName": "Debottama Hazarika",
      "userId": "06795409176620158804"
     },
     "user_tz": -330
    },
    "id": "77017197"
   },
   "outputs": [],
   "source": [
    "from tensorflow.keras.layers import Input, Conv2D, BatchNormalization, Activation, add,GlobalAveragePooling2D, AveragePooling2D, Flatten, Dense, Dropout\n",
    "from tensorflow.keras.models import Model, load_model\n",
    "from keras.utils import plot_model\n",
    "import numpy as np\n",
    "from tensorflow.keras.utils import image_dataset_from_directory\n",
    "from tensorflow.keras.metrics import Precision, Recall, BinaryAccuracy\n",
    "from matplotlib import pyplot as plt\n",
    "import pickle\n",
    "from sklearn.utils.class_weight import compute_class_weight\n",
    "from tensorflow.keras.preprocessing.image import ImageDataGenerator"
   ]
  },
  {
   "cell_type": "code",
   "execution_count": null,
   "id": "fVUcVOimwrUE",
   "metadata": {
    "colab": {
     "base_uri": "https://localhost:8080/"
    },
    "executionInfo": {
     "elapsed": 23422,
     "status": "ok",
     "timestamp": 1706596111465,
     "user": {
      "displayName": "Debottama Hazarika",
      "userId": "06795409176620158804"
     },
     "user_tz": -330
    },
    "id": "fVUcVOimwrUE",
    "outputId": "53270d6e-5181-4aff-9a20-e079b6a0883b"
   },
   "outputs": [
    {
     "name": "stdout",
     "output_type": "stream",
     "text": [
      "Mounted at /content/drive\n"
     ]
    }
   ],
   "source": [
    "from google.colab import drive\n",
    "drive.mount('/content/drive')"
   ]
  },
  {
   "cell_type": "code",
   "execution_count": 2,
   "id": "efe196f3",
   "metadata": {
    "executionInfo": {
     "elapsed": 8,
     "status": "ok",
     "timestamp": 1708772466396,
     "user": {
      "displayName": "Debottama Hazarika",
      "userId": "06795409176620158804"
     },
     "user_tz": -330
    },
    "id": "efe196f3"
   },
   "outputs": [],
   "source": [
    "def residual_block(input_tensor, filters, stride):\n",
    "    if stride != 1 :\n",
    "        shortcut = Conv2D(filters, kernel_size=(1, 1), padding='same', strides=stride)(input_tensor)\n",
    "    else:\n",
    "        shortcut = input_tensor\n",
    "\n",
    "    x = Conv2D(filters, kernel_size=(3, 3), padding='same', strides=stride)(input_tensor)\n",
    "    x = BatchNormalization()(x)\n",
    "    x = Activation('relu')(x)\n",
    "\n",
    "    x = Conv2D(filters, kernel_size=(3, 3), padding='same')(x)\n",
    "    x = BatchNormalization()(x)\n",
    "\n",
    "    x = add([x, shortcut])\n",
    "#     x = Activation('relu')(x)\n",
    "\n",
    "    return x\n",
    "\n",
    "\n",
    "def layer_n(input_image,b1,b2,b3,b4,b5): #b1 = 5, b2 = 2, b3 = 4, b4 = 2, b5 = 3\n",
    "\n",
    "    # low level feature extractor\n",
    "\n",
    "    def_out = Conv2D(16, kernel_size = (3,3), input_shape=(400, 400, 1))(input_image)\n",
    "    def_out = BatchNormalization()(def_out)\n",
    "    def_out = Activation('relu')(def_out)\n",
    "\n",
    "    # High level feature extractor\n",
    "\n",
    "    x = def_out\n",
    "\n",
    "    for _ in range(b1):\n",
    "        x = residual_block(x,16,1)\n",
    "\n",
    "    for _ in range(b2):\n",
    "        x = residual_block(x,32,2)\n",
    "\n",
    "    for _ in range(b3):\n",
    "        x = residual_block(x,32,1)\n",
    "\n",
    "    for _ in range(b4):\n",
    "        x = residual_block(x,64,2)\n",
    "\n",
    "    for _ in range(b5):\n",
    "        x = residual_block(x,64,1)\n",
    "\n",
    "    x = AveragePooling2D(pool_size=(2, 2))(x)\n",
    "#     x=GlobalAveragePooling2D()(x)\n",
    "\n",
    "    x = Flatten()(x)\n",
    "    x = Dense(1, activation='sigmoid')(x)\n",
    "\n",
    "    return x"
   ]
  },
  {
   "cell_type": "code",
   "execution_count": null,
   "id": "7682aa52",
   "metadata": {
    "id": "7682aa52"
   },
   "outputs": [],
   "source": [
    "# input_image = tf.convert_to_tensor(np.random.rand(1, 400, 400, 3), np.float32)\n",
    "# result = layer_n(input_image, 5, 2, 4, 2, 3)"
   ]
  },
  {
   "cell_type": "code",
   "execution_count": null,
   "id": "c84146d5",
   "metadata": {
    "id": "c84146d5"
   },
   "outputs": [],
   "source": [
    "# print(result.shape)"
   ]
  },
  {
   "cell_type": "code",
   "execution_count": null,
   "id": "e28244b6",
   "metadata": {
    "id": "e28244b6"
   },
   "outputs": [],
   "source": [
    "inputs = Input(shape=(400, 400, 1))\n",
    "result = layer_n(inputs, 3, 2, 2, 1, 3)\n",
    "model = Model(inputs=inputs, outputs=result)"
   ]
  },
  {
   "cell_type": "code",
   "execution_count": null,
   "id": "500127e2",
   "metadata": {
    "id": "500127e2",
    "scrolled": true
   },
   "outputs": [],
   "source": [
    "# plot_model(model)"
   ]
  },
  {
   "cell_type": "code",
   "execution_count": null,
   "id": "1749aded",
   "metadata": {
    "colab": {
     "base_uri": "https://localhost:8080/"
    },
    "executionInfo": {
     "elapsed": 39523,
     "status": "ok",
     "timestamp": 1706596162440,
     "user": {
      "displayName": "Debottama Hazarika",
      "userId": "06795409176620158804"
     },
     "user_tz": -330
    },
    "id": "1749aded",
    "outputId": "f8c2160e-1cd9-4d28-b353-a7673dfa1e4a"
   },
   "outputs": [
    {
     "name": "stdout",
     "output_type": "stream",
     "text": [
      "Found 5899 images belonging to 2 classes.\n",
      "Found 1475 images belonging to 2 classes.\n",
      "Found 820 images belonging to 2 classes.\n"
     ]
    }
   ],
   "source": [
    "\n",
    "train_datagen = ImageDataGenerator(\n",
    "#     rotation_range=10,\n",
    "#     width_shift_range=0.2,\n",
    "#     height_shift_range=0.2,\n",
    "#     shear_range=0.2,\n",
    "#     zoom_range=0.2,\n",
    "#     horizontal_flip=True,\n",
    "#     fill_mode='nearest'\n",
    ")\n",
    "\n",
    "\n",
    "train_gen = train_datagen.flow_from_directory(\n",
    "    \"/content/drive/MyDrive/ju_detection_1/Ju_det_train_test_val/train\",\n",
    "    target_size=(400, 400),  # Adjust as per your image size\n",
    "    batch_size=32,\n",
    "    class_mode='sparse',\n",
    "    color_mode = 'grayscale',\n",
    "    seed=42,\n",
    "    shuffle=True\n",
    ")\n",
    "\n",
    "val_test_datagen = ImageDataGenerator()\n",
    "\n",
    "val_gen = val_test_datagen.flow_from_directory(\n",
    "    \"/content/drive/MyDrive/ju_detection_1/Ju_det_train_test_val/val\",\n",
    "    target_size=(400, 400),  # Adjust as per your image size\n",
    "    batch_size=32,\n",
    "    class_mode='sparse',\n",
    "    color_mode = 'grayscale',\n",
    "    seed=42,\n",
    "    shuffle=False,\n",
    ")\n",
    "\n",
    "test_gen = val_test_datagen.flow_from_directory(\n",
    "    \"/content/drive/MyDrive/ju_detection_1/Ju_det_train_test_val/test\",\n",
    "    target_size=(400, 400),  # Adjust as per your image size\n",
    "    batch_size=32,\n",
    "    class_mode='sparse',\n",
    "    color_mode = 'grayscale',\n",
    "    seed=42,\n",
    "    shuffle=False,\n",
    ")"
   ]
  },
  {
   "cell_type": "code",
   "execution_count": null,
   "id": "59a569ca",
   "metadata": {
    "id": "59a569ca"
   },
   "outputs": [],
   "source": [
    "unique_classes = np.unique(train_gen.classes)\n",
    "\n",
    "# Calculate class weights\n",
    "class_weights = compute_class_weight('balanced',classes = unique_classes,y=train_gen.classes)\n",
    "class_weights_dict = dict(zip(unique_classes, class_weights))"
   ]
  },
  {
   "cell_type": "code",
   "execution_count": null,
   "id": "af05ea23",
   "metadata": {
    "id": "af05ea23"
   },
   "outputs": [],
   "source": [
    "print(class_weights_dict)"
   ]
  },
  {
   "cell_type": "code",
   "execution_count": null,
   "id": "jWYZzWpItxnS",
   "metadata": {
    "colab": {
     "base_uri": "https://localhost:8080/"
    },
    "executionInfo": {
     "elapsed": 8318931,
     "status": "ok",
     "timestamp": 1705994919367,
     "user": {
      "displayName": "Debottama Hazarika",
      "userId": "06795409176620158804"
     },
     "user_tz": -330
    },
    "id": "jWYZzWpItxnS",
    "outputId": "1b0e8164-fe66-47fc-cb0d-dc373ea8c767"
   },
   "outputs": [
    {
     "name": "stdout",
     "output_type": "stream",
     "text": [
      "Epoch 1/25\n",
      "185/185 [==============================] - ETA: 0s - loss: 0.8228 - accuracy: 0.8927 \n",
      "Epoch 1: val_accuracy improved from -inf to 0.88678, saving model to /content/drive/MyDrive/ju_detection_1/ju_det_final_2.h5\n"
     ]
    },
    {
     "name": "stderr",
     "output_type": "stream",
     "text": [
      "/usr/local/lib/python3.10/dist-packages/keras/src/engine/training.py:3103: UserWarning: You are saving your model as an HDF5 file via `model.save()`. This file format is considered legacy. We recommend using instead the native Keras format, e.g. `model.save('my_model.keras')`.\n",
      "  saving_api.save_model(\n"
     ]
    },
    {
     "name": "stdout",
     "output_type": "stream",
     "text": [
      "\b\b\b\b\b\b\b\b\b\b\b\b\b\b\b\b\b\b\b\b\b\b\b\b\b\b\b\b\b\b\b\b\b\b\b\b\b\b\b\b\b\b\b\b\b\b\b\b\b\b\b\b\b\b\b\b\b\b\b\b\b\b\b\b\b\b\b\b\b\b\b\b\b\b\b\b\b\b\b\b\b\b\b\b\r185/185 [==============================] - 3728s 20s/step - loss: 0.8228 - accuracy: 0.8927 - val_loss: 0.5571 - val_accuracy: 0.8868\n",
      "Epoch 2/25\n",
      "185/185 [==============================] - ETA: 0s - loss: 0.1983 - accuracy: 0.9658\n",
      "Epoch 2: val_accuracy improved from 0.88678 to 0.94169, saving model to /content/drive/MyDrive/ju_detection_1/ju_det_final_2.h5\n",
      "185/185 [==============================] - 170s 920ms/step - loss: 0.1983 - accuracy: 0.9658 - val_loss: 0.3414 - val_accuracy: 0.9417\n",
      "Epoch 3/25\n",
      "185/185 [==============================] - ETA: 0s - loss: 0.1277 - accuracy: 0.9749\n",
      "Epoch 3: val_accuracy improved from 0.94169 to 0.96203, saving model to /content/drive/MyDrive/ju_detection_1/ju_det_final_2.h5\n",
      "185/185 [==============================] - 170s 920ms/step - loss: 0.1277 - accuracy: 0.9749 - val_loss: 0.2514 - val_accuracy: 0.9620\n",
      "Epoch 4/25\n",
      "185/185 [==============================] - ETA: 0s - loss: 0.2004 - accuracy: 0.9661\n",
      "Epoch 4: val_accuracy did not improve from 0.96203\n",
      "185/185 [==============================] - 169s 915ms/step - loss: 0.2004 - accuracy: 0.9661 - val_loss: 0.2971 - val_accuracy: 0.9600\n",
      "Epoch 5/25\n",
      "185/185 [==============================] - ETA: 0s - loss: 0.1829 - accuracy: 0.9710\n",
      "Epoch 5: val_accuracy did not improve from 0.96203\n",
      "185/185 [==============================] - 169s 914ms/step - loss: 0.1829 - accuracy: 0.9710 - val_loss: 0.2980 - val_accuracy: 0.9498\n",
      "Epoch 6/25\n",
      "185/185 [==============================] - ETA: 0s - loss: 0.1190 - accuracy: 0.9781\n",
      "Epoch 6: val_accuracy did not improve from 0.96203\n",
      "185/185 [==============================] - 169s 914ms/step - loss: 0.1190 - accuracy: 0.9781 - val_loss: 0.3632 - val_accuracy: 0.9607\n",
      "Epoch 7/25\n",
      "185/185 [==============================] - ETA: 0s - loss: 0.0894 - accuracy: 0.9866\n",
      "Epoch 7: val_accuracy improved from 0.96203 to 0.98102, saving model to /content/drive/MyDrive/ju_detection_1/ju_det_final_2.h5\n",
      "185/185 [==============================] - 170s 918ms/step - loss: 0.0894 - accuracy: 0.9866 - val_loss: 0.1797 - val_accuracy: 0.9810\n",
      "Epoch 8/25\n",
      "185/185 [==============================] - ETA: 0s - loss: 0.0576 - accuracy: 0.9895\n",
      "Epoch 8: val_accuracy did not improve from 0.98102\n",
      "185/185 [==============================] - 169s 913ms/step - loss: 0.0576 - accuracy: 0.9895 - val_loss: 0.1318 - val_accuracy: 0.9776\n",
      "Epoch 9/25\n",
      "185/185 [==============================] - ETA: 0s - loss: 0.0502 - accuracy: 0.9927\n",
      "Epoch 9: val_accuracy did not improve from 0.98102\n",
      "185/185 [==============================] - 169s 913ms/step - loss: 0.0502 - accuracy: 0.9927 - val_loss: 0.1414 - val_accuracy: 0.9790\n",
      "Epoch 10/25\n",
      "185/185 [==============================] - ETA: 0s - loss: 0.0732 - accuracy: 0.9876\n",
      "Epoch 10: val_accuracy did not improve from 0.98102\n",
      "185/185 [==============================] - 169s 914ms/step - loss: 0.0732 - accuracy: 0.9876 - val_loss: 0.1384 - val_accuracy: 0.9763\n",
      "Epoch 11/25\n",
      "185/185 [==============================] - ETA: 0s - loss: 0.0609 - accuracy: 0.9912\n",
      "Epoch 11: val_accuracy did not improve from 0.98102\n",
      "185/185 [==============================] - 169s 913ms/step - loss: 0.0609 - accuracy: 0.9912 - val_loss: 0.1743 - val_accuracy: 0.9783\n",
      "Epoch 12/25\n",
      "185/185 [==============================] - ETA: 0s - loss: 0.0535 - accuracy: 0.9892\n",
      "Epoch 12: val_accuracy did not improve from 0.98102\n",
      "185/185 [==============================] - 170s 916ms/step - loss: 0.0535 - accuracy: 0.9892 - val_loss: 0.0980 - val_accuracy: 0.9783\n",
      "Epoch 13/25\n",
      "185/185 [==============================] - ETA: 0s - loss: 0.0294 - accuracy: 0.9930\n",
      "Epoch 13: val_accuracy did not improve from 0.98102\n",
      "185/185 [==============================] - 169s 916ms/step - loss: 0.0294 - accuracy: 0.9930 - val_loss: 0.1038 - val_accuracy: 0.9769\n",
      "Epoch 14/25\n",
      "185/185 [==============================] - ETA: 0s - loss: 0.0420 - accuracy: 0.9932\n",
      "Epoch 14: val_accuracy did not improve from 0.98102\n",
      "185/185 [==============================] - 169s 914ms/step - loss: 0.0420 - accuracy: 0.9932 - val_loss: 0.0971 - val_accuracy: 0.9797\n",
      "Epoch 15/25\n",
      "185/185 [==============================] - ETA: 0s - loss: 0.0346 - accuracy: 0.9939\n",
      "Epoch 15: val_accuracy did not improve from 0.98102\n",
      "185/185 [==============================] - 169s 913ms/step - loss: 0.0346 - accuracy: 0.9939 - val_loss: 0.1155 - val_accuracy: 0.9776\n",
      "Epoch 16/25\n",
      "185/185 [==============================] - ETA: 0s - loss: 0.0344 - accuracy: 0.9936\n",
      "Epoch 16: val_accuracy did not improve from 0.98102\n",
      "185/185 [==============================] - 169s 914ms/step - loss: 0.0344 - accuracy: 0.9936 - val_loss: 0.1524 - val_accuracy: 0.9769\n",
      "Epoch 17/25\n",
      "185/185 [==============================] - ETA: 0s - loss: 0.0273 - accuracy: 0.9942\n",
      "Epoch 17: val_accuracy did not improve from 0.98102\n",
      "185/185 [==============================] - 169s 914ms/step - loss: 0.0273 - accuracy: 0.9942 - val_loss: 0.0737 - val_accuracy: 0.9803\n",
      "Epoch 18/25\n",
      "185/185 [==============================] - ETA: 0s - loss: 0.0322 - accuracy: 0.9936\n",
      "Epoch 18: val_accuracy did not improve from 0.98102\n",
      "185/185 [==============================] - 169s 913ms/step - loss: 0.0322 - accuracy: 0.9936 - val_loss: 0.0928 - val_accuracy: 0.9797\n",
      "Epoch 19/25\n",
      "185/185 [==============================] - ETA: 0s - loss: 0.0287 - accuracy: 0.9947\n",
      "Epoch 19: val_accuracy did not improve from 0.98102\n",
      "185/185 [==============================] - 169s 913ms/step - loss: 0.0287 - accuracy: 0.9947 - val_loss: 0.1056 - val_accuracy: 0.9776\n",
      "Epoch 20/25\n",
      "185/185 [==============================] - ETA: 0s - loss: 0.0356 - accuracy: 0.9939\n",
      "Epoch 20: val_accuracy did not improve from 0.98102\n",
      "185/185 [==============================] - 169s 914ms/step - loss: 0.0356 - accuracy: 0.9939 - val_loss: 0.1258 - val_accuracy: 0.9749\n",
      "Epoch 21/25\n",
      "185/185 [==============================] - ETA: 0s - loss: 0.0248 - accuracy: 0.9951\n",
      "Epoch 21: val_accuracy did not improve from 0.98102\n",
      "185/185 [==============================] - 169s 913ms/step - loss: 0.0248 - accuracy: 0.9951 - val_loss: 0.1089 - val_accuracy: 0.9769\n",
      "Epoch 22/25\n",
      "185/185 [==============================] - ETA: 0s - loss: 0.1068 - accuracy: 0.9786\n",
      "Epoch 22: val_accuracy did not improve from 0.98102\n",
      "185/185 [==============================] - 169s 915ms/step - loss: 0.1068 - accuracy: 0.9786 - val_loss: 0.4948 - val_accuracy: 0.9586\n",
      "Epoch 23/25\n",
      "185/185 [==============================] - ETA: 0s - loss: 0.6364 - accuracy: 0.9376\n",
      "Epoch 23: val_accuracy did not improve from 0.98102\n",
      "185/185 [==============================] - 169s 914ms/step - loss: 0.6364 - accuracy: 0.9376 - val_loss: 35.2620 - val_accuracy: 0.1837\n",
      "Epoch 24/25\n",
      "185/185 [==============================] - ETA: 0s - loss: 0.1899 - accuracy: 0.9747\n",
      "Epoch 24: val_accuracy did not improve from 0.98102\n",
      "185/185 [==============================] - 170s 916ms/step - loss: 0.1899 - accuracy: 0.9747 - val_loss: 0.2268 - val_accuracy: 0.9722\n",
      "Epoch 25/25\n",
      "185/185 [==============================] - ETA: 0s - loss: 0.0943 - accuracy: 0.9881\n",
      "Epoch 25: val_accuracy did not improve from 0.98102\n",
      "185/185 [==============================] - 169s 913ms/step - loss: 0.0943 - accuracy: 0.9881 - val_loss: 0.2798 - val_accuracy: 0.9790\n"
     ]
    }
   ],
   "source": [
    "from tensorflow.keras.callbacks import ModelCheckpoint\n",
    "\n",
    "# Define the ModelCheckpoint callback\n",
    "checkpoint = ModelCheckpoint(\"/content/drive/MyDrive/ju_detection_1/ju_det_final_2.h5\"\n",
    ", monitor='val_accuracy', save_best_only=True, mode='max', verbose=1)\n",
    "\n",
    "# Compile the model\n",
    "model.compile(optimizer='Adam', loss='binary_crossentropy', metrics=['accuracy'])\n",
    "\n",
    "# Train the model with ModelCheckpoint callback\n",
    "hist = model.fit(train_gen, epochs=25,\n",
    "                 validation_data=val_gen,\n",
    "                 class_weight=class_weights_dict,\n",
    "                 callbacks=[checkpoint])"
   ]
  },
  {
   "cell_type": "code",
   "execution_count": null,
   "id": "4DQJ8YvAO8SD",
   "metadata": {
    "id": "4DQJ8YvAO8SD"
   },
   "outputs": [],
   "source": [
    "# loading model and history\n",
    "from keras.models import load_model\n",
    "\n",
    "# Load the model\n",
    "loaded_model = load_model(\"/content/drive/MyDrive/ju_detection_1/ju_det_final_2.h5\")\n"
   ]
  },
  {
   "cell_type": "code",
   "execution_count": null,
   "id": "xTOQX4JoPDGI",
   "metadata": {
    "colab": {
     "base_uri": "https://localhost:8080/"
    },
    "executionInfo": {
     "elapsed": 5779,
     "status": "ok",
     "timestamp": 1706596745708,
     "user": {
      "displayName": "Debottama Hazarika",
      "userId": "06795409176620158804"
     },
     "user_tz": -330
    },
    "id": "xTOQX4JoPDGI",
    "outputId": "6a5d4494-5ef4-46ef-e17c-6814fb507a27"
   },
   "outputs": [
    {
     "name": "stdout",
     "output_type": "stream",
     "text": [
      "26/26 [==============================] - 5s 195ms/step\n",
      "Confusion Matrix:\n",
      "[[135   3]\n",
      " [  7 675]]\n",
      "Accuracy: 0.9878048780487805\n",
      "Precision: 0.995575221238938\n",
      "Recall: 0.9897360703812317\n",
      "F1 Score: 0.9926470588235294\n"
     ]
    }
   ],
   "source": [
    "from sklearn.metrics import confusion_matrix, accuracy_score, precision_score, recall_score, f1_score\n",
    "\n",
    "# Assuming 'model' is your binary classification model and 'test_gen' is your test generator\n",
    "\n",
    "# Get predicted probabilities for the positive class (class 1)\n",
    "y_pred_probs = loaded_model.predict(test_gen)\n",
    "\n",
    "\n",
    "y_pred = (y_pred_probs >= 0.6).astype(int)\n",
    "\n",
    "# Get true labels from the test generator\n",
    "y_true = test_gen.classes\n",
    "\n",
    "# Compute confusion matrix\n",
    "conf_matrix = confusion_matrix(y_true, y_pred)\n",
    "print(\"Confusion Matrix:\")\n",
    "print(conf_matrix)\n",
    "\n",
    "# Calculate additional binary classification metrics\n",
    "accuracy = accuracy_score(y_true, y_pred)\n",
    "precision = precision_score(y_true, y_pred)\n",
    "recall = recall_score(y_true, y_pred)\n",
    "f1 = f1_score(y_true, y_pred)\n",
    "\n",
    "print(\"Accuracy:\", accuracy)\n",
    "print(\"Precision:\", precision)\n",
    "print(\"Recall:\", recall)\n",
    "print(\"F1 Score:\", f1)\n"
   ]
  },
  {
   "cell_type": "code",
   "execution_count": null,
   "id": "uyE4mLgFPzNE",
   "metadata": {
    "colab": {
     "base_uri": "https://localhost:8080/",
     "height": 388
    },
    "executionInfo": {
     "elapsed": 1515,
     "status": "ok",
     "timestamp": 1705995356500,
     "user": {
      "displayName": "Debottama Hazarika",
      "userId": "06795409176620158804"
     },
     "user_tz": -330
    },
    "id": "uyE4mLgFPzNE",
    "outputId": "9a2132f4-9448-488a-f750-5f6269aad8f3"
   },
   "outputs": [
    {
     "data": {
      "image/png": "[encoded data removed]",
      "text/plain": [
       "<Figure size 400x400 with 2 Axes>"
      ]
     },
     "metadata": {},
     "output_type": "display_data"
    }
   ],
   "source": [
    "import seaborn as sns\n",
    "fig, ax = plt.subplots(figsize=(4,4))\n",
    "sns.heatmap(conf_matrix,fmt='d', annot=True,xticklabels=['CO','PD'], yticklabels=['CO','PD'])\n",
    "plt.ylabel('Actual')\n",
    "plt.xlabel('Predicted')\n",
    "plt.show(block=False)"
   ]
  },
  {
   "cell_type": "code",
   "execution_count": null,
   "id": "QVwY1eqqGFhz",
   "metadata": {
    "colab": {
     "base_uri": "https://localhost:8080/",
     "height": 388
    },
    "executionInfo": {
     "elapsed": 918,
     "status": "ok",
     "timestamp": 1706596812426,
     "user": {
      "displayName": "Debottama Hazarika",
      "userId": "06795409176620158804"
     },
     "user_tz": -330
    },
    "id": "QVwY1eqqGFhz",
    "outputId": "3a9703d2-0fb7-4a23-fc23-5b4eadd6c4c5"
   },
   "outputs": [
    {
     "data": {
      "image/png": "[encoded data removed]",
      "text/plain": [
       "<Figure size 400x400 with 2 Axes>"
      ]
     },
     "metadata": {},
     "output_type": "display_data"
    }
   ],
   "source": [
    "import seaborn as sns\n",
    "cm=conf_matrix\n",
    "fig, ax = plt.subplots(figsize=(4,4))\n",
    "cmn = cm.astype('float') / cm.sum(axis=1)[:, np.newaxis]\n",
    "sns.heatmap(cmn,fmt='.2f', annot=True,xticklabels=['CO','PD'], yticklabels=['CO','PD'])\n",
    "plt.ylabel('Actual')\n",
    "plt.xlabel('Predicted')\n",
    "plt.show(block=False)"
   ]
  },
  {
   "cell_type": "code",
   "execution_count": null,
   "id": "uuyAZ9rJovOh",
   "metadata": {
    "id": "uuyAZ9rJovOh"
   },
   "outputs": [],
   "source": [
    "inputs = Input(shape=(100, 100, 1))\n",
    "result = layer_n(inputs, 3, 2, 2, 1, 3)\n",
    "model = Model(inputs=inputs, outputs=result)"
   ]
  },
  {
   "cell_type": "code",
   "execution_count": null,
   "id": "lqh5wVPCOlkk",
   "metadata": {
    "colab": {
     "base_uri": "https://localhost:8080/"
    },
    "executionInfo": {
     "elapsed": 1396,
     "status": "ok",
     "timestamp": 1707310528322,
     "user": {
      "displayName": "Debottama Hazarika",
      "userId": "06795409176620158804"
     },
     "user_tz": -330
    },
    "id": "lqh5wVPCOlkk",
    "outputId": "e4c7b2ba-bf84-4ae0-94e3-564e48a667dd"
   },
   "outputs": [
    {
     "name": "stdout",
     "output_type": "stream",
     "text": [
      "Model: \"model\"\n",
      "__________________________________________________________________________________________________\n",
      " Layer (type)                Output Shape                 Param #   Connected to                  \n",
      "==================================================================================================\n",
      " input_1 (InputLayer)        [(None, 100, 100, 1)]        0         []                            \n",
      "                                                                                                  \n",
      " conv2d (Conv2D)             (None, 98, 98, 16)           160       ['input_1[0][0]']             \n",
      "                                                                                                  \n",
      " batch_normalization (Batch  (None, 98, 98, 16)           64        ['conv2d[0][0]']              \n",
      " Normalization)                                                                                   \n",
      "                                                                                                  \n",
      " activation (Activation)     (None, 98, 98, 16)           0         ['batch_normalization[0][0]'] \n",
      "                                                                                                  \n",
      " conv2d_1 (Conv2D)           (None, 98, 98, 16)           2320      ['activation[0][0]']          \n",
      "                                                                                                  \n",
      " batch_normalization_1 (Bat  (None, 98, 98, 16)           64        ['conv2d_1[0][0]']            \n",
      " chNormalization)                                                                                 \n",
      "                                                                                                  \n",
      " activation_1 (Activation)   (None, 98, 98, 16)           0         ['batch_normalization_1[0][0]'\n",
      "                                                                    ]                             \n",
      "                                                                                                  \n",
      " conv2d_2 (Conv2D)           (None, 98, 98, 16)           2320      ['activation_1[0][0]']        \n",
      "                                                                                                  \n",
      " batch_normalization_2 (Bat  (None, 98, 98, 16)           64        ['conv2d_2[0][0]']            \n",
      " chNormalization)                                                                                 \n",
      "                                                                                                  \n",
      " add (Add)                   (None, 98, 98, 16)           0         ['batch_normalization_2[0][0]'\n",
      "                                                                    , 'activation[0][0]']         \n",
      "                                                                                                  \n",
      " conv2d_3 (Conv2D)           (None, 98, 98, 16)           2320      ['add[0][0]']                 \n",
      "                                                                                                  \n",
      " batch_normalization_3 (Bat  (None, 98, 98, 16)           64        ['conv2d_3[0][0]']            \n",
      " chNormalization)                                                                                 \n",
      "                                                                                                  \n",
      " activation_2 (Activation)   (None, 98, 98, 16)           0         ['batch_normalization_3[0][0]'\n",
      "                                                                    ]                             \n",
      "                                                                                                  \n",
      " conv2d_4 (Conv2D)           (None, 98, 98, 16)           2320      ['activation_2[0][0]']        \n",
      "                                                                                                  \n",
      " batch_normalization_4 (Bat  (None, 98, 98, 16)           64        ['conv2d_4[0][0]']            \n",
      " chNormalization)                                                                                 \n",
      "                                                                                                  \n",
      " add_1 (Add)                 (None, 98, 98, 16)           0         ['batch_normalization_4[0][0]'\n",
      "                                                                    , 'add[0][0]']                \n",
      "                                                                                                  \n",
      " conv2d_5 (Conv2D)           (None, 98, 98, 16)           2320      ['add_1[0][0]']               \n",
      "                                                                                                  \n",
      " batch_normalization_5 (Bat  (None, 98, 98, 16)           64        ['conv2d_5[0][0]']            \n",
      " chNormalization)                                                                                 \n",
      "                                                                                                  \n",
      " activation_3 (Activation)   (None, 98, 98, 16)           0         ['batch_normalization_5[0][0]'\n",
      "                                                                    ]                             \n",
      "                                                                                                  \n",
      " conv2d_6 (Conv2D)           (None, 98, 98, 16)           2320      ['activation_3[0][0]']        \n",
      "                                                                                                  \n",
      " batch_normalization_6 (Bat  (None, 98, 98, 16)           64        ['conv2d_6[0][0]']            \n",
      " chNormalization)                                                                                 \n",
      "                                                                                                  \n",
      " add_2 (Add)                 (None, 98, 98, 16)           0         ['batch_normalization_6[0][0]'\n",
      "                                                                    , 'add_1[0][0]']              \n",
      "                                                                                                  \n",
      " conv2d_8 (Conv2D)           (None, 49, 49, 32)           4640      ['add_2[0][0]']               \n",
      "                                                                                                  \n",
      " batch_normalization_7 (Bat  (None, 49, 49, 32)           128       ['conv2d_8[0][0]']            \n",
      " chNormalization)                                                                                 \n",
      "                                                                                                  \n",
      " activation_4 (Activation)   (None, 49, 49, 32)           0         ['batch_normalization_7[0][0]'\n",
      "                                                                    ]                             \n",
      "                                                                                                  \n",
      " conv2d_9 (Conv2D)           (None, 49, 49, 32)           9248      ['activation_4[0][0]']        \n",
      "                                                                                                  \n",
      " batch_normalization_8 (Bat  (None, 49, 49, 32)           128       ['conv2d_9[0][0]']            \n",
      " chNormalization)                                                                                 \n",
      "                                                                                                  \n",
      " conv2d_7 (Conv2D)           (None, 49, 49, 32)           544       ['add_2[0][0]']               \n",
      "                                                                                                  \n",
      " add_3 (Add)                 (None, 49, 49, 32)           0         ['batch_normalization_8[0][0]'\n",
      "                                                                    , 'conv2d_7[0][0]']           \n",
      "                                                                                                  \n",
      " conv2d_11 (Conv2D)          (None, 25, 25, 32)           9248      ['add_3[0][0]']               \n",
      "                                                                                                  \n",
      " batch_normalization_9 (Bat  (None, 25, 25, 32)           128       ['conv2d_11[0][0]']           \n",
      " chNormalization)                                                                                 \n",
      "                                                                                                  \n",
      " activation_5 (Activation)   (None, 25, 25, 32)           0         ['batch_normalization_9[0][0]'\n",
      "                                                                    ]                             \n",
      "                                                                                                  \n",
      " conv2d_12 (Conv2D)          (None, 25, 25, 32)           9248      ['activation_5[0][0]']        \n",
      "                                                                                                  \n",
      " batch_normalization_10 (Ba  (None, 25, 25, 32)           128       ['conv2d_12[0][0]']           \n",
      " tchNormalization)                                                                                \n",
      "                                                                                                  \n",
      " conv2d_10 (Conv2D)          (None, 25, 25, 32)           1056      ['add_3[0][0]']               \n",
      "                                                                                                  \n",
      " add_4 (Add)                 (None, 25, 25, 32)           0         ['batch_normalization_10[0][0]\n",
      "                                                                    ',                            \n",
      "                                                                     'conv2d_10[0][0]']           \n",
      "                                                                                                  \n",
      " conv2d_13 (Conv2D)          (None, 25, 25, 32)           9248      ['add_4[0][0]']               \n",
      "                                                                                                  \n",
      " batch_normalization_11 (Ba  (None, 25, 25, 32)           128       ['conv2d_13[0][0]']           \n",
      " tchNormalization)                                                                                \n",
      "                                                                                                  \n",
      " activation_6 (Activation)   (None, 25, 25, 32)           0         ['batch_normalization_11[0][0]\n",
      "                                                                    ']                            \n",
      "                                                                                                  \n",
      " conv2d_14 (Conv2D)          (None, 25, 25, 32)           9248      ['activation_6[0][0]']        \n",
      "                                                                                                  \n",
      " batch_normalization_12 (Ba  (None, 25, 25, 32)           128       ['conv2d_14[0][0]']           \n",
      " tchNormalization)                                                                                \n",
      "                                                                                                  \n",
      " add_5 (Add)                 (None, 25, 25, 32)           0         ['batch_normalization_12[0][0]\n",
      "                                                                    ',                            \n",
      "                                                                     'add_4[0][0]']               \n",
      "                                                                                                  \n",
      " conv2d_15 (Conv2D)          (None, 25, 25, 32)           9248      ['add_5[0][0]']               \n",
      "                                                                                                  \n",
      " batch_normalization_13 (Ba  (None, 25, 25, 32)           128       ['conv2d_15[0][0]']           \n",
      " tchNormalization)                                                                                \n",
      "                                                                                                  \n",
      " activation_7 (Activation)   (None, 25, 25, 32)           0         ['batch_normalization_13[0][0]\n",
      "                                                                    ']                            \n",
      "                                                                                                  \n",
      " conv2d_16 (Conv2D)          (None, 25, 25, 32)           9248      ['activation_7[0][0]']        \n",
      "                                                                                                  \n",
      " batch_normalization_14 (Ba  (None, 25, 25, 32)           128       ['conv2d_16[0][0]']           \n",
      " tchNormalization)                                                                                \n",
      "                                                                                                  \n",
      " add_6 (Add)                 (None, 25, 25, 32)           0         ['batch_normalization_14[0][0]\n",
      "                                                                    ',                            \n",
      "                                                                     'add_5[0][0]']               \n",
      "                                                                                                  \n",
      " conv2d_18 (Conv2D)          (None, 13, 13, 64)           18496     ['add_6[0][0]']               \n",
      "                                                                                                  \n",
      " batch_normalization_15 (Ba  (None, 13, 13, 64)           256       ['conv2d_18[0][0]']           \n",
      " tchNormalization)                                                                                \n",
      "                                                                                                  \n",
      " activation_8 (Activation)   (None, 13, 13, 64)           0         ['batch_normalization_15[0][0]\n",
      "                                                                    ']                            \n",
      "                                                                                                  \n",
      " conv2d_19 (Conv2D)          (None, 13, 13, 64)           36928     ['activation_8[0][0]']        \n",
      "                                                                                                  \n",
      " batch_normalization_16 (Ba  (None, 13, 13, 64)           256       ['conv2d_19[0][0]']           \n",
      " tchNormalization)                                                                                \n",
      "                                                                                                  \n",
      " conv2d_17 (Conv2D)          (None, 13, 13, 64)           2112      ['add_6[0][0]']               \n",
      "                                                                                                  \n",
      " add_7 (Add)                 (None, 13, 13, 64)           0         ['batch_normalization_16[0][0]\n",
      "                                                                    ',                            \n",
      "                                                                     'conv2d_17[0][0]']           \n",
      "                                                                                                  \n",
      " conv2d_20 (Conv2D)          (None, 13, 13, 64)           36928     ['add_7[0][0]']               \n",
      "                                                                                                  \n",
      " batch_normalization_17 (Ba  (None, 13, 13, 64)           256       ['conv2d_20[0][0]']           \n",
      " tchNormalization)                                                                                \n",
      "                                                                                                  \n",
      " activation_9 (Activation)   (None, 13, 13, 64)           0         ['batch_normalization_17[0][0]\n",
      "                                                                    ']                            \n",
      "                                                                                                  \n",
      " conv2d_21 (Conv2D)          (None, 13, 13, 64)           36928     ['activation_9[0][0]']        \n",
      "                                                                                                  \n",
      " batch_normalization_18 (Ba  (None, 13, 13, 64)           256       ['conv2d_21[0][0]']           \n",
      " tchNormalization)                                                                                \n",
      "                                                                                                  \n",
      " add_8 (Add)                 (None, 13, 13, 64)           0         ['batch_normalization_18[0][0]\n",
      "                                                                    ',                            \n",
      "                                                                     'add_7[0][0]']               \n",
      "                                                                                                  \n",
      " conv2d_22 (Conv2D)          (None, 13, 13, 64)           36928     ['add_8[0][0]']               \n",
      "                                                                                                  \n",
      " batch_normalization_19 (Ba  (None, 13, 13, 64)           256       ['conv2d_22[0][0]']           \n",
      " tchNormalization)                                                                                \n",
      "                                                                                                  \n",
      " activation_10 (Activation)  (None, 13, 13, 64)           0         ['batch_normalization_19[0][0]\n",
      "                                                                    ']                            \n",
      "                                                                                                  \n",
      " conv2d_23 (Conv2D)          (None, 13, 13, 64)           36928     ['activation_10[0][0]']       \n",
      "                                                                                                  \n",
      " batch_normalization_20 (Ba  (None, 13, 13, 64)           256       ['conv2d_23[0][0]']           \n",
      " tchNormalization)                                                                                \n",
      "                                                                                                  \n",
      " add_9 (Add)                 (None, 13, 13, 64)           0         ['batch_normalization_20[0][0]\n",
      "                                                                    ',                            \n",
      "                                                                     'add_8[0][0]']               \n",
      "                                                                                                  \n",
      " conv2d_24 (Conv2D)          (None, 13, 13, 64)           36928     ['add_9[0][0]']               \n",
      "                                                                                                  \n",
      " batch_normalization_21 (Ba  (None, 13, 13, 64)           256       ['conv2d_24[0][0]']           \n",
      " tchNormalization)                                                                                \n",
      "                                                                                                  \n",
      " activation_11 (Activation)  (None, 13, 13, 64)           0         ['batch_normalization_21[0][0]\n",
      "                                                                    ']                            \n",
      "                                                                                                  \n",
      " conv2d_25 (Conv2D)          (None, 13, 13, 64)           36928     ['activation_11[0][0]']       \n",
      "                                                                                                  \n",
      " batch_normalization_22 (Ba  (None, 13, 13, 64)           256       ['conv2d_25[0][0]']           \n",
      " tchNormalization)                                                                                \n",
      "                                                                                                  \n",
      " add_10 (Add)                (None, 13, 13, 64)           0         ['batch_normalization_22[0][0]\n",
      "                                                                    ',                            \n",
      "                                                                     'add_9[0][0]']               \n",
      "                                                                                                  \n",
      " average_pooling2d (Average  (None, 6, 6, 64)             0         ['add_10[0][0]']              \n",
      " Pooling2D)                                                                                       \n",
      "                                                                                                  \n",
      " flatten (Flatten)           (None, 2304)                 0         ['average_pooling2d[0][0]']   \n",
      "                                                                                                  \n",
      " dense (Dense)               (None, 1)                    2305      ['flatten[0][0]']             \n",
      "                                                                                                  \n",
      "==================================================================================================\n",
      "Total params: 369985 (1.41 MB)\n",
      "Trainable params: 368225 (1.40 MB)\n",
      "Non-trainable params: 1760 (6.88 KB)\n",
      "__________________________________________________________________________________________________\n"
     ]
    }
   ],
   "source": [
    "# if we use 32213 then\n",
    "model.summary()"
   ]
  }
 ],
 "metadata": {
  "accelerator": "GPU",
  "colab": {
   "gpuType": "T4",
   "provenance": []
  },
  "kernelspec": {
   "display_name": "Python 3",
   "name": "python3"
  },
  "language_info": {
   "codemirror_mode": {
    "name": "ipython",
    "version": 3
   },
   "file_extension": ".py",
   "mimetype": "text/x-python",
   "name": "python",
   "nbconvert_exporter": "python",
   "pygments_lexer": "ipython3",
   "version": "3.10.13"
  }
 },
 "nbformat": 4,
 "nbformat_minor": 5
}
