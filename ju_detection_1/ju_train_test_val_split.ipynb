{
 "cells": [
  {
   "cell_type": "code",
   "execution_count": null,
   "id": "691f8d93",
   "metadata": {},
   "outputs": [],
   "source": [
    "import os\n",
    "import shutil\n",
    "import tensorflow as tf\n",
    "from sklearn.model_selection import train_test_split\n",
    "\n",
    "# Define your source data directory\n",
    "data_dir = \"/content/drive/MyDrive/ju_detection_1/JU_CLASSIFICATION_3K_TO_10K_imbalanced\"\n",
    "\n",
    "# Create a list of all image files with their corresponding labels\n",
    "all_files = []\n",
    "labels = []\n",
    "\n",
    "for class_name in [\"CO\", \"PD\"]:\n",
    "    class_path = os.path.join(data_dir, class_name)\n",
    "    class_files = [os.path.join(class_path, file) for file in os.listdir(class_path) if file.endswith('.png')]\n",
    "    all_files.extend(class_files)\n",
    "    labels.extend([class_name] * len(class_files))\n",
    "\n",
    "# Split the data into training, validation, and test sets\n",
    "train_files, test_files, train_labels, test_labels = train_test_split(\n",
    "    all_files, labels, test_size=0.1, random_state=42, stratify=labels\n",
    ")\n",
    "\n",
    "# Use stratify in the train-validation split\n",
    "train_files, val_files, train_labels, val_labels = train_test_split(\n",
    "    train_files, train_labels, test_size=0.2, random_state=42, stratify=train_labels\n",
    ")\n",
    "\n",
    "# Define the destination directories\n",
    "destination_dir = '/content/drive/MyDrive/ju_detection_1/Ju_det_train_test_val'\n",
    "train_dir = os.path.join(destination_dir, 'train')\n",
    "val_dir = os.path.join(destination_dir, 'val')\n",
    "test_dir = os.path.join(destination_dir, 'test')\n",
    "\n",
    "# Function to copy images to the destination directory\n",
    "def copy_files_to_folder(files, labels, destination_folder):\n",
    "    for file, label in zip(files, labels):\n",
    "        class_folder = os.path.join(destination_folder, label)\n",
    "        os.makedirs(class_folder, exist_ok=True)\n",
    "        shutil.copy(file, class_folder)\n",
    "\n",
    "# Copy images to training directory\n",
    "copy_files_to_folder(train_files, train_labels, train_dir)\n",
    "\n",
    "# Copy images to validation directory\n",
    "copy_files_to_folder(val_files, val_labels, val_dir)\n",
    "\n",
    "# Copy images to testing directory\n",
    "copy_files_to_folder(test_files, test_labels, test_dir)\n"
   ]
  }
 ],
 "metadata": {
  "kernelspec": {
   "display_name": "Python 3 (ipykernel)",
   "language": "python",
   "name": "python3"
  },
  "language_info": {
   "codemirror_mode": {
    "name": "ipython",
    "version": 3
   },
   "file_extension": ".py",
   "mimetype": "text/x-python",
   "name": "python",
   "nbconvert_exporter": "python",
   "pygments_lexer": "ipython3",
   "version": "3.10.13"
  }
 },
 "nbformat": 4,
 "nbformat_minor": 5
}
